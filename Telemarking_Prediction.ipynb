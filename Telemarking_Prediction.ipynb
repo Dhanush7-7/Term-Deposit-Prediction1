{
 "cells": [
  {
   "cell_type": "code",
   "execution_count": 1,
   "id": "63a92522",
   "metadata": {
    "_cell_guid": "b1076dfc-b9ad-4769-8c92-a6c4dae69d19",
    "_uuid": "8f2839f25d086af736a60e9eeb907d3b93b6e0e5",
    "execution": {
     "iopub.execute_input": "2024-11-21T21:37:56.980601Z",
     "iopub.status.busy": "2024-11-21T21:37:56.980051Z",
     "iopub.status.idle": "2024-11-21T21:37:56.986795Z",
     "shell.execute_reply": "2024-11-21T21:37:56.985538Z"
    },
    "papermill": {
     "duration": 0.027729,
     "end_time": "2024-11-21T21:37:56.989257",
     "exception": false,
     "start_time": "2024-11-21T21:37:56.961528",
     "status": "completed"
    },
    "tags": []
   },
   "outputs": [],
   "source": [
    "# # This Python 3 environment comes with many helpful analytics libraries installed\n",
    "# # It is defined by the kaggle/python Docker image: https://github.com/kaggle/docker-python\n",
    "# # For example, here's several helpful packages to load\n",
    "\n",
    "# import numpy as np # linear algebra\n",
    "# import pandas as pd # data processing, CSV file I/O (e.g. pd.read_csv)\n",
    "\n",
    "# # Input data files are available in the read-only \"../input/\" directory\n",
    "# # For example, running this (by clicking run or pressing Shift+Enter) will list all files under the input directory\n",
    "\n",
    "# import os\n",
    "# for dirname, _, filenames in os.walk('/kaggle/input'):\n",
    "#     for filename in filenames:\n",
    "#         print(os.path.join(dirname, filename))\n",
    "\n",
    "# # You can write up to 20GB to the current directory (/kaggle/working/) that gets preserved as output when you create a version using \"Save & Run All\" \n",
    "# # You can also write temporary files to /kaggle/temp/, but they won't be saved outside of the current session"
   ]
  },
  {
   "cell_type": "markdown",
   "id": "decc6973",
   "metadata": {
    "papermill": {
     "duration": 0.013459,
     "end_time": "2024-11-21T21:37:57.018473",
     "exception": false,
     "start_time": "2024-11-21T21:37:57.005014",
     "status": "completed"
    },
    "tags": []
   },
   "source": [
    "# **1. Data Loading**"
   ]
  },
  {
   "cell_type": "code",
   "execution_count": 2,
   "id": "c8a9a1b8",
   "metadata": {
    "execution": {
     "iopub.execute_input": "2024-11-21T21:37:57.048732Z",
     "iopub.status.busy": "2024-11-21T21:37:57.048351Z",
     "iopub.status.idle": "2024-11-21T21:37:59.872436Z",
     "shell.execute_reply": "2024-11-21T21:37:59.871295Z"
    },
    "papermill": {
     "duration": 2.842111,
     "end_time": "2024-11-21T21:37:59.874849",
     "exception": false,
     "start_time": "2024-11-21T21:37:57.032738",
     "status": "completed"
    },
    "tags": []
   },
   "outputs": [],
   "source": [
    "import pandas as pd\n",
    "import matplotlib.pyplot as plt\n",
    "import seaborn as sns\n",
    "import numpy as np"
   ]
  },
  {
   "cell_type": "code",
   "execution_count": 3,
   "id": "dd753cec",
   "metadata": {
    "execution": {
     "iopub.execute_input": "2024-11-21T21:37:59.904723Z",
     "iopub.status.busy": "2024-11-21T21:37:59.904179Z",
     "iopub.status.idle": "2024-11-21T21:38:00.115345Z",
     "shell.execute_reply": "2024-11-21T21:38:00.113979Z"
    },
    "papermill": {
     "duration": 0.229031,
     "end_time": "2024-11-21T21:38:00.117719",
     "exception": false,
     "start_time": "2024-11-21T21:37:59.888688",
     "status": "completed"
    },
    "tags": []
   },
   "outputs": [
    {
     "name": "stdout",
     "output_type": "stream",
     "text": [
      "  last contact date  age           job  marital  education default  balance  \\\n",
      "0        2009-04-17   26   blue-collar  married  secondary      no      647   \n",
      "1        2009-10-11   52    technician  married  secondary      no      553   \n",
      "2        2010-11-20   44   blue-collar  married  secondary      no     1397   \n",
      "3        2009-09-01   33        admin.  married  secondary      no      394   \n",
      "4        2008-01-29   31  entrepreneur   single   tertiary      no      137   \n",
      "\n",
      "  housing loan    contact  duration  campaign  pdays  previous poutcome target  \n",
      "0     yes   no   cellular       357         2    331         1    other     no  \n",
      "1     yes   no  telephone       160         1     -1         0      NaN     no  \n",
      "2      no   no   cellular       326         1     -1         0      NaN     no  \n",
      "3     yes   no  telephone       104         3     -1         0      NaN     no  \n",
      "4      no   no   cellular       445         2     -1         0      NaN     no  \n"
     ]
    }
   ],
   "source": [
    "import pandas as pd\n",
    "\n",
    "train_data = pd.read_csv('/kaggle/input/predict-the-success-of-bank-telemarketing/train.csv')\n",
    "test_data = pd.read_csv('/kaggle/input/predict-the-success-of-bank-telemarketing/test.csv')\n",
    "\n",
    "print(train_data.head())"
   ]
  },
  {
   "cell_type": "code",
   "execution_count": 4,
   "id": "efa79c82",
   "metadata": {
    "execution": {
     "iopub.execute_input": "2024-11-21T21:38:00.148668Z",
     "iopub.status.busy": "2024-11-21T21:38:00.147808Z",
     "iopub.status.idle": "2024-11-21T21:38:00.154521Z",
     "shell.execute_reply": "2024-11-21T21:38:00.153173Z"
    },
    "papermill": {
     "duration": 0.024439,
     "end_time": "2024-11-21T21:38:00.156989",
     "exception": false,
     "start_time": "2024-11-21T21:38:00.132550",
     "status": "completed"
    },
    "tags": []
   },
   "outputs": [
    {
     "name": "stdout",
     "output_type": "stream",
     "text": [
      "(39211, 16)\n",
      "(10000, 15)\n"
     ]
    }
   ],
   "source": [
    "print(train_data.shape) \n",
    "print(test_data.shape)"
   ]
  },
  {
   "cell_type": "markdown",
   "id": "dccf4301",
   "metadata": {
    "papermill": {
     "duration": 0.013252,
     "end_time": "2024-11-21T21:38:00.184579",
     "exception": false,
     "start_time": "2024-11-21T21:38:00.171327",
     "status": "completed"
    },
    "tags": []
   },
   "source": [
    "# **2. Exploratory Data Analysis**"
   ]
  },
  {
   "cell_type": "markdown",
   "id": "1e53755d",
   "metadata": {
    "papermill": {
     "duration": 0.013717,
     "end_time": "2024-11-21T21:38:00.213827",
     "exception": false,
     "start_time": "2024-11-21T21:38:00.200110",
     "status": "completed"
    },
    "tags": []
   },
   "source": [
    "## 2.1 Defining and analyzing the Feature Types\n",
    "### 2.1.1 Stats for each Features"
   ]
  },
  {
   "cell_type": "code",
   "execution_count": 5,
   "id": "f93a5905",
   "metadata": {
    "execution": {
     "iopub.execute_input": "2024-11-21T21:38:00.243451Z",
     "iopub.status.busy": "2024-11-21T21:38:00.242637Z",
     "iopub.status.idle": "2024-11-21T21:38:00.251387Z",
     "shell.execute_reply": "2024-11-21T21:38:00.250180Z"
    },
    "papermill": {
     "duration": 0.026209,
     "end_time": "2024-11-21T21:38:00.253668",
     "exception": false,
     "start_time": "2024-11-21T21:38:00.227459",
     "status": "completed"
    },
    "tags": []
   },
   "outputs": [
    {
     "data": {
      "text/plain": [
       "Index(['last contact date', 'age', 'job', 'marital', 'education', 'default',\n",
       "       'balance', 'housing', 'loan', 'contact', 'duration', 'campaign',\n",
       "       'pdays', 'previous', 'poutcome', 'target'],\n",
       "      dtype='object')"
      ]
     },
     "execution_count": 5,
     "metadata": {},
     "output_type": "execute_result"
    }
   ],
   "source": [
    "train_data.columns # gives the features of the dataset"
   ]
  },
  {
   "cell_type": "code",
   "execution_count": 6,
   "id": "50b4ac23",
   "metadata": {
    "execution": {
     "iopub.execute_input": "2024-11-21T21:38:00.284892Z",
     "iopub.status.busy": "2024-11-21T21:38:00.284443Z",
     "iopub.status.idle": "2024-11-21T21:38:00.331227Z",
     "shell.execute_reply": "2024-11-21T21:38:00.330008Z"
    },
    "papermill": {
     "duration": 0.064665,
     "end_time": "2024-11-21T21:38:00.333952",
     "exception": false,
     "start_time": "2024-11-21T21:38:00.269287",
     "status": "completed"
    },
    "tags": []
   },
   "outputs": [
    {
     "data": {
      "text/html": [
       "<div>\n",
       "<style scoped>\n",
       "    .dataframe tbody tr th:only-of-type {\n",
       "        vertical-align: middle;\n",
       "    }\n",
       "\n",
       "    .dataframe tbody tr th {\n",
       "        vertical-align: top;\n",
       "    }\n",
       "\n",
       "    .dataframe thead th {\n",
       "        text-align: right;\n",
       "    }\n",
       "</style>\n",
       "<table border=\"1\" class=\"dataframe\">\n",
       "  <thead>\n",
       "    <tr style=\"text-align: right;\">\n",
       "      <th></th>\n",
       "      <th>age</th>\n",
       "      <th>balance</th>\n",
       "      <th>duration</th>\n",
       "      <th>campaign</th>\n",
       "      <th>pdays</th>\n",
       "      <th>previous</th>\n",
       "    </tr>\n",
       "  </thead>\n",
       "  <tbody>\n",
       "    <tr>\n",
       "      <th>count</th>\n",
       "      <td>39211.000000</td>\n",
       "      <td>39211.000000</td>\n",
       "      <td>39211.000000</td>\n",
       "      <td>39211.000000</td>\n",
       "      <td>39211.000000</td>\n",
       "      <td>39211.000000</td>\n",
       "    </tr>\n",
       "    <tr>\n",
       "      <th>mean</th>\n",
       "      <td>42.120247</td>\n",
       "      <td>5441.781719</td>\n",
       "      <td>439.062789</td>\n",
       "      <td>5.108770</td>\n",
       "      <td>72.256051</td>\n",
       "      <td>11.826171</td>\n",
       "    </tr>\n",
       "    <tr>\n",
       "      <th>std</th>\n",
       "      <td>12.709352</td>\n",
       "      <td>16365.292065</td>\n",
       "      <td>769.096291</td>\n",
       "      <td>9.890153</td>\n",
       "      <td>160.942593</td>\n",
       "      <td>44.140259</td>\n",
       "    </tr>\n",
       "    <tr>\n",
       "      <th>min</th>\n",
       "      <td>18.000000</td>\n",
       "      <td>-8019.000000</td>\n",
       "      <td>0.000000</td>\n",
       "      <td>1.000000</td>\n",
       "      <td>-1.000000</td>\n",
       "      <td>0.000000</td>\n",
       "    </tr>\n",
       "    <tr>\n",
       "      <th>25%</th>\n",
       "      <td>33.000000</td>\n",
       "      <td>98.000000</td>\n",
       "      <td>109.000000</td>\n",
       "      <td>1.000000</td>\n",
       "      <td>-1.000000</td>\n",
       "      <td>0.000000</td>\n",
       "    </tr>\n",
       "    <tr>\n",
       "      <th>50%</th>\n",
       "      <td>40.000000</td>\n",
       "      <td>549.000000</td>\n",
       "      <td>197.000000</td>\n",
       "      <td>2.000000</td>\n",
       "      <td>-1.000000</td>\n",
       "      <td>0.000000</td>\n",
       "    </tr>\n",
       "    <tr>\n",
       "      <th>75%</th>\n",
       "      <td>50.000000</td>\n",
       "      <td>2030.000000</td>\n",
       "      <td>380.000000</td>\n",
       "      <td>4.000000</td>\n",
       "      <td>-1.000000</td>\n",
       "      <td>0.000000</td>\n",
       "    </tr>\n",
       "    <tr>\n",
       "      <th>max</th>\n",
       "      <td>95.000000</td>\n",
       "      <td>102127.000000</td>\n",
       "      <td>4918.000000</td>\n",
       "      <td>63.000000</td>\n",
       "      <td>871.000000</td>\n",
       "      <td>275.000000</td>\n",
       "    </tr>\n",
       "  </tbody>\n",
       "</table>\n",
       "</div>"
      ],
      "text/plain": [
       "                age        balance      duration      campaign         pdays  \\\n",
       "count  39211.000000   39211.000000  39211.000000  39211.000000  39211.000000   \n",
       "mean      42.120247    5441.781719    439.062789      5.108770     72.256051   \n",
       "std       12.709352   16365.292065    769.096291      9.890153    160.942593   \n",
       "min       18.000000   -8019.000000      0.000000      1.000000     -1.000000   \n",
       "25%       33.000000      98.000000    109.000000      1.000000     -1.000000   \n",
       "50%       40.000000     549.000000    197.000000      2.000000     -1.000000   \n",
       "75%       50.000000    2030.000000    380.000000      4.000000     -1.000000   \n",
       "max       95.000000  102127.000000   4918.000000     63.000000    871.000000   \n",
       "\n",
       "           previous  \n",
       "count  39211.000000  \n",
       "mean      11.826171  \n",
       "std       44.140259  \n",
       "min        0.000000  \n",
       "25%        0.000000  \n",
       "50%        0.000000  \n",
       "75%        0.000000  \n",
       "max      275.000000  "
      ]
     },
     "execution_count": 6,
     "metadata": {},
     "output_type": "execute_result"
    }
   ],
   "source": [
    "train_data.describe() # calculates statistics of the features in the dataset"
   ]
  },
  {
   "cell_type": "markdown",
   "id": "28304b60",
   "metadata": {
    "papermill": {
     "duration": 0.014337,
     "end_time": "2024-11-21T21:38:00.362402",
     "exception": false,
     "start_time": "2024-11-21T21:38:00.348065",
     "status": "completed"
    },
    "tags": []
   },
   "source": [
    "### 2.1.2 Categorizing Numerical and Categorial Features"
   ]
  },
  {
   "cell_type": "code",
   "execution_count": 7,
   "id": "c5a131f1",
   "metadata": {
    "execution": {
     "iopub.execute_input": "2024-11-21T21:38:00.392369Z",
     "iopub.status.busy": "2024-11-21T21:38:00.391841Z",
     "iopub.status.idle": "2024-11-21T21:38:00.403821Z",
     "shell.execute_reply": "2024-11-21T21:38:00.402519Z"
    },
    "papermill": {
     "duration": 0.029633,
     "end_time": "2024-11-21T21:38:00.406144",
     "exception": false,
     "start_time": "2024-11-21T21:38:00.376511",
     "status": "completed"
    },
    "tags": []
   },
   "outputs": [
    {
     "name": "stdout",
     "output_type": "stream",
     "text": [
      "Index(['age', 'balance', 'duration', 'campaign', 'pdays', 'previous'], dtype='object')\n",
      "\n",
      "Index(['last contact date', 'job', 'marital', 'education', 'default',\n",
      "       'housing', 'loan', 'contact', 'poutcome', 'target'],\n",
      "      dtype='object')\n"
     ]
    }
   ],
   "source": [
    "numeric_columns = train_data.select_dtypes(include=['number'])\n",
    "object_columns = train_data.select_dtypes(exclude=['number'])\n",
    "\n",
    "print(f'{numeric_columns.columns}\\n')\n",
    "print(object_columns.columns)"
   ]
  },
  {
   "cell_type": "markdown",
   "id": "f28698cb",
   "metadata": {
    "papermill": {
     "duration": 0.013552,
     "end_time": "2024-11-21T21:38:00.434420",
     "exception": false,
     "start_time": "2024-11-21T21:38:00.420868",
     "status": "completed"
    },
    "tags": []
   },
   "source": [
    "### 2.1.3 Finding Null and Unique Values"
   ]
  },
  {
   "cell_type": "code",
   "execution_count": 8,
   "id": "0357992c",
   "metadata": {
    "execution": {
     "iopub.execute_input": "2024-11-21T21:38:00.463835Z",
     "iopub.status.busy": "2024-11-21T21:38:00.463413Z",
     "iopub.status.idle": "2024-11-21T21:38:00.492411Z",
     "shell.execute_reply": "2024-11-21T21:38:00.491144Z"
    },
    "papermill": {
     "duration": 0.046544,
     "end_time": "2024-11-21T21:38:00.494844",
     "exception": false,
     "start_time": "2024-11-21T21:38:00.448300",
     "status": "completed"
    },
    "tags": []
   },
   "outputs": [
    {
     "data": {
      "text/plain": [
       "last contact date        0\n",
       "age                      0\n",
       "job                    229\n",
       "marital                  0\n",
       "education             1467\n",
       "default                  0\n",
       "balance                  0\n",
       "housing                  0\n",
       "loan                     0\n",
       "contact              10336\n",
       "duration                 0\n",
       "campaign                 0\n",
       "pdays                    0\n",
       "previous                 0\n",
       "poutcome             29451\n",
       "target                   0\n",
       "dtype: int64"
      ]
     },
     "execution_count": 8,
     "metadata": {},
     "output_type": "execute_result"
    }
   ],
   "source": [
    "train_data.isnull().sum()"
   ]
  },
  {
   "cell_type": "code",
   "execution_count": 9,
   "id": "bf8d2270",
   "metadata": {
    "execution": {
     "iopub.execute_input": "2024-11-21T21:38:00.526249Z",
     "iopub.status.busy": "2024-11-21T21:38:00.525848Z",
     "iopub.status.idle": "2024-11-21T21:38:00.562091Z",
     "shell.execute_reply": "2024-11-21T21:38:00.560839Z"
    },
    "papermill": {
     "duration": 0.054702,
     "end_time": "2024-11-21T21:38:00.564873",
     "exception": false,
     "start_time": "2024-11-21T21:38:00.510171",
     "status": "completed"
    },
    "tags": []
   },
   "outputs": [
    {
     "name": "stdout",
     "output_type": "stream",
     "text": [
      "Unique values in 'last contact date':\n",
      "['2009-04-17' '2009-10-11' '2010-11-20' ... '2009-07-05' '2008-02-25'\n",
      " '2010-04-12']\n",
      "\n",
      "\n",
      "Unique values in 'age':\n",
      "[26 52 44 33 31 25 46 37 38 32 28 34 86 42 58 39 35 47 45 48 30 50 56 54\n",
      " 40 53 41 51 27 29 57 63 36 43 19 55 49 23 83 60 22 80 76 59 24 93 71 89\n",
      " 64 68 85 79 62 69 20 90 66 87 72 88 67 70 77 91 78 61 65 73 74 84 82 92\n",
      " 81 18 21 75 94 95]\n",
      "\n",
      "\n",
      "Unique values in 'job':\n",
      "['blue-collar' 'technician' 'admin.' 'entrepreneur' 'unemployed'\n",
      " 'management' 'services' 'student' 'self-employed' 'retired' 'housemaid'\n",
      " nan]\n",
      "\n",
      "\n",
      "Unique values in 'marital':\n",
      "['married' 'single' 'divorced']\n",
      "\n",
      "\n",
      "Unique values in 'education':\n",
      "['secondary' 'tertiary' 'primary' nan]\n",
      "\n",
      "\n",
      "Unique values in 'default':\n",
      "['no' 'yes']\n",
      "\n",
      "\n",
      "Unique values in 'balance':\n",
      "[  647   553  1397 ...  4307  6187 38594]\n",
      "\n",
      "\n",
      "Unique values in 'housing':\n",
      "['yes' 'no']\n",
      "\n",
      "\n",
      "Unique values in 'loan':\n",
      "['no' 'yes']\n",
      "\n",
      "\n",
      "Unique values in 'contact':\n",
      "['cellular' 'telephone' nan]\n",
      "\n",
      "\n",
      "Unique values in 'duration':\n",
      "[ 357  160  326 ... 3506 4144 1631]\n",
      "\n",
      "\n",
      "Unique values in 'campaign':\n",
      "[ 2  1  3  4  6 45  5 44 12 61 58  7  8 20 43 17 13 15 48 34 11 54 22 26\n",
      " 29 21 10 49  9 52 53 57 16 50 46 47 23 37 18 38 32 36 39 56 14 30 41 63\n",
      " 51 28 25 62 55 42 35 31 59 19 40 33 24 27 60]\n",
      "\n",
      "\n",
      "Unique values in 'pdays':\n",
      "[331  -1 852 661 152 599 365 367 238 129 287 174 120 368 371 187 610 364\n",
      " 633  80 125 356 248 186 278 154  90  98 574 352 561 260 801  78 596 343\n",
      " 671 175 159  12 111  31 342 357  74 100 289  84 109 245 369  83 536 216\n",
      "  89  97 252 143 378 336 172 160 191  91 848 258 317  94 196 362 188 272\n",
      " 138 298 116 101 591 360 234 505 631  82   8 300 472 173 530 103 236 316\n",
      " 370 611 271 305  79 474 405 293 442 178 232 299 213 184 237  93  37 255\n",
      " 353 259 181 315 147 349 335 165 295 203 290   6 767 302 169 320 148  19\n",
      " 435 328 645 526 150 318 347  29  96 254  35 136 350 759 358 670 348 224\n",
      " 114 102 407 326 330 665 760 445 373 265 190 285 246 644 337 161 264 562\n",
      " 189 363 630 652  44 478 322 176 783 597 344 339 110 334 167 204 166 816\n",
      " 484 177 775 366  32 480 200 408 421 247 291 261 579 244 730 324 434 525\n",
      " 156 153 157  95 439 286 163 197 182 309 257 283 461 824  92 704 195 170\n",
      " 655 121  68 332 651 504 403 263 183 440 431 185 202 105 477 746 310 622\n",
      " 149 698 427 847 115 620 219 846 301  40 649 481 438 215  61 531  59 643\n",
      " 303 117  64 168 158 338 515 516  75 779 606 355 400 743 134  53 706 321\n",
      " 274 578 345 270 141   1 251 575 705  81 340 192 266 262 560 276 208 243\n",
      " 428 375  11 180 314  99 228 774  76 518 695 209 193 206 282 861 304 828\n",
      "  55 284  87 210 551 135 312 587 468 557  50 406 113 329 556 764 179 239\n",
      " 145 249 323  41 201  33 844 221 256 212 281 450  86 580 422 385 233 514\n",
      "  28 268  30 795 205  57 361 860   2 327 346 132 473  63 396 657  88 647\n",
      " 854  73 107 126 171 581 198  24 402 325 433 269  85 646  69 605 733 488\n",
      " 462 805 217 745 292 151 426 127 131 351 359 240 769 789 388 503 306 313\n",
      " 863 866 479 547 390   5 528 341 640 648 859 625 725 567 387 669 374 225\n",
      " 380 496 155 506 642 722 802  56 118 553 456 333 559 714 409 791 267 806\n",
      " 451 415 685 558 773 383 833 467 311 534   3 459 241 819 798  52 139 104\n",
      " 511 455 307 624 601 494 308 458 112 842 522 555 394 275 498 768 273 694\n",
      " 499 381 294 708 457 146 550 845 425 297   7 871 615 752 737 543 668  60\n",
      " 864 124 796 829 250 280  77 674 130 412 600 483 538 588 548 475  70 372\n",
      " 164 418 223 712 391 279 133 751 227 464 734 106 740 857 629 436 443 253\n",
      " 812 853 123 577 437 778 613 386  38 399 711 376 869 827 721  43 469 776\n",
      " 199 398 862 735 229 680 761 780 663 686  62 870 230  14 119  42  27  17\n",
      " 697 781 545 521 517 675 242 485 211 618 509 128 667  21 404 108 736 603\n",
      " 718 218 586 831 684 658 834 826 617 144  46 463 454 786  67  10 430 493\n",
      " 810 710 701 784 354 799 584 688  47 868 637 593 662 492 448 681 207 726\n",
      " 757 825 510 739 750 277 855 654 813 673 384 460 222 410 838 628 296 621\n",
      " 677 732   9 319 194 417 140 632 691 659 589 741 288 814 822  71 397 382\n",
      " 490 554 758 392 569  22 466 542 235 541 487 565 619 544 413 650 389 476\n",
      " 508 728 529 793 500 537 429 636 449 772 137 762 491 566 770 850  45 856\n",
      " 497 664 424 785 609 830 702  39 744 626 612 563 512 634 122 447 231 717\n",
      " 414 627 713 486 818 672 432 709 419 598  25 787 719 614  13 582 656 471\n",
      " 576 696 687 162 749 777 756 489 523 811 214 377 837  18 226 804 573 416\n",
      " 446 797  36 520   4  66 465 792 379 639 602 754 546 401 766 635  49 840\n",
      " 572 858  58 821 782 771 604 731  54 608 807  23 699 851 585 693 729 616\n",
      " 660 820 808 841  65 765 411 607 571 763 727  72 470 803 653  16 142 539\n",
      " 513 843  15 742 564 552 592 638 507 676 839 549 689 590  26 809 753 723\n",
      " 815 788 747 420 790 524 720 683 690 519 716 835 568 623 570 444 678  48\n",
      " 482 535 595 836 594 707 817 502 441  34 800 533 395  20 453 832 540 849\n",
      " 666 495 679 865 501 393 794  51 700 703 532 715 867 692 452 823 220   0\n",
      " 724]\n",
      "\n",
      "\n",
      "Unique values in 'previous':\n",
      "[  1   0   4 143 234   3  18   2 225 219   6  12  16 248 217 116   8 119\n",
      "  37  69 113  14 265 175 103  28  86   5 196 156 207 218 148 213  87 241\n",
      "  60 235 172 255 266  17 135  99  20   9 270 229 188 105 141 153 131 182\n",
      " 223 177  70  75   7  91 236  85 100 160  30  63 178 150  72 233  40 145\n",
      " 272  24 249  97 193 140 222 128  90  10 155 122 134 252 117 173 203 226\n",
      "  23 194 208  77 274  38 273 244  15 176  96  31 133 259 191 101 197 192\n",
      " 152 216 204 206  71 180 250 268 144  81 110 136  43  19  74 187 205  66\n",
      " 269  36 166  29  53 200 261  13  61 186  62 104 138 123  78 189 147 185\n",
      " 179 129 190 111 139 211 245  22  51 171  26 254  84 174  46  48  58  68\n",
      " 228  11  80  55 107 232 202 132 264  56 260 181  32 163  94  83  54 240\n",
      " 154 198  49 221 242  35 120 125 243 256 146  67 124 108 169  82  39 258\n",
      " 112 237 114  59  42 165 199 184  92 168  21  88  33 159 183 109  65 164\n",
      " 215  93 246 102  95 201 162 195  41  64 157 257 263 267 126  47 212 149\n",
      "  52  73 239  25 118 161  27  76 121 170 230 262  89 137 220 209  57 251\n",
      " 247 115  34 238 271 167  98  50 142  45 227 275 106  79 210 214  44 253\n",
      " 224 151 231 130 158 127]\n",
      "\n",
      "\n",
      "Unique values in 'poutcome':\n",
      "['other' nan 'failure' 'success']\n",
      "\n",
      "\n",
      "Unique values in 'target':\n",
      "['no' 'yes']\n",
      "\n",
      "\n"
     ]
    }
   ],
   "source": [
    "# Display unique values for each column\n",
    "for column in train_data.columns:\n",
    "    print(f\"Unique values in '{column}':\")\n",
    "    print(train_data[column].unique())\n",
    "    print(\"\\n\")"
   ]
  },
  {
   "cell_type": "code",
   "execution_count": 10,
   "id": "953f43d0",
   "metadata": {
    "execution": {
     "iopub.execute_input": "2024-11-21T21:38:00.595689Z",
     "iopub.status.busy": "2024-11-21T21:38:00.595264Z",
     "iopub.status.idle": "2024-11-21T21:38:00.622077Z",
     "shell.execute_reply": "2024-11-21T21:38:00.620877Z"
    },
    "papermill": {
     "duration": 0.044854,
     "end_time": "2024-11-21T21:38:00.624472",
     "exception": false,
     "start_time": "2024-11-21T21:38:00.579618",
     "status": "completed"
    },
    "tags": []
   },
   "outputs": [
    {
     "data": {
      "text/plain": [
       "last contact date    1013\n",
       "job                    11\n",
       "marital                 3\n",
       "education               3\n",
       "default                 2\n",
       "housing                 2\n",
       "loan                    2\n",
       "contact                 2\n",
       "poutcome                3\n",
       "target                  2\n",
       "dtype: int64"
      ]
     },
     "execution_count": 10,
     "metadata": {},
     "output_type": "execute_result"
    }
   ],
   "source": [
    "object_columns.nunique()"
   ]
  },
  {
   "cell_type": "markdown",
   "id": "9d007c7e",
   "metadata": {
    "papermill": {
     "duration": 0.013921,
     "end_time": "2024-11-21T21:38:00.654068",
     "exception": false,
     "start_time": "2024-11-21T21:38:00.640147",
     "status": "completed"
    },
    "tags": []
   },
   "source": [
    "## 2.2 Visualisation Data\n",
    "### 2.2.1 Correlation Map Between Numerical Features"
   ]
  },
  {
   "cell_type": "code",
   "execution_count": 11,
   "id": "79e97e19",
   "metadata": {
    "execution": {
     "iopub.execute_input": "2024-11-21T21:38:00.684799Z",
     "iopub.status.busy": "2024-11-21T21:38:00.684357Z",
     "iopub.status.idle": "2024-11-21T21:38:01.111071Z",
     "shell.execute_reply": "2024-11-21T21:38:01.109845Z"
    },
    "papermill": {
     "duration": 0.44523,
     "end_time": "2024-11-21T21:38:01.113755",
     "exception": false,
     "start_time": "2024-11-21T21:38:00.668525",
     "status": "completed"
    },
    "tags": []
   },
   "outputs": [
    {
     "data": {
      "image/png": "[encoded data removed]",
      "text/plain": [
       "<Figure size 640x480 with 2 Axes>"
      ]
     },
     "metadata": {},
     "output_type": "display_data"
    }
   ],
   "source": [
    "# Visualize correlations between numerical features\n",
    "corr = numeric_columns.corr()\n",
    "sns.heatmap(corr, annot=True, cmap='coolwarm')\n",
    "plt.title('Feature Correlation Heatmap')\n",
    "plt.show()"
   ]
  },
  {
   "cell_type": "markdown",
   "id": "eb92c354",
   "metadata": {
    "papermill": {
     "duration": 0.015186,
     "end_time": "2024-11-21T21:38:01.144215",
     "exception": false,
     "start_time": "2024-11-21T21:38:01.129029",
     "status": "completed"
    },
    "tags": []
   },
   "source": [
    "### 2.2.2 Visulising Distribution of Numerical Features\n",
    "#### Using Bar Charts"
   ]
  },
  {
   "cell_type": "code",
   "execution_count": 12,
   "id": "c7f08b52",
   "metadata": {
    "execution": {
     "iopub.execute_input": "2024-11-21T21:38:01.177721Z",
     "iopub.status.busy": "2024-11-21T21:38:01.176638Z",
     "iopub.status.idle": "2024-11-21T21:38:03.517061Z",
     "shell.execute_reply": "2024-11-21T21:38:03.515741Z"
    },
    "papermill": {
     "duration": 2.359995,
     "end_time": "2024-11-21T21:38:03.519571",
     "exception": false,
     "start_time": "2024-11-21T21:38:01.159576",
     "status": "completed"
    },
    "tags": []
   },
   "outputs": [
    {
     "name": "stderr",
     "output_type": "stream",
     "text": [
      "/opt/conda/lib/python3.10/site-packages/seaborn/_oldcore.py:1119: FutureWarning: use_inf_as_na option is deprecated and will be removed in a future version. Convert inf values to NaN before operating instead.\n",
      "  with pd.option_context('mode.use_inf_as_na', True):\n"
     ]
    },
    {
     "data": {
      "image/png": "[encoded data removed]",
      "text/plain": [
       "<Figure size 800x400 with 1 Axes>"
      ]
     },
     "metadata": {},
     "output_type": "display_data"
    },
    {
     "name": "stderr",
     "output_type": "stream",
     "text": [
      "/opt/conda/lib/python3.10/site-packages/seaborn/_oldcore.py:1119: FutureWarning: use_inf_as_na option is deprecated and will be removed in a future version. Convert inf values to NaN before operating instead.\n",
      "  with pd.option_context('mode.use_inf_as_na', True):\n"
     ]
    },
    {
     "data": {
      "image/png": "[encoded data removed]",
      "text/plain": [
       "<Figure size 800x400 with 1 Axes>"
      ]
     },
     "metadata": {},
     "output_type": "display_data"
    },
    {
     "name": "stderr",
     "output_type": "stream",
     "text": [
      "/opt/conda/lib/python3.10/site-packages/seaborn/_oldcore.py:1119: FutureWarning: use_inf_as_na option is deprecated and will be removed in a future version. Convert inf values to NaN before operating instead.\n",
      "  with pd.option_context('mode.use_inf_as_na', True):\n"
     ]
    },
    {
     "data": {
      "image/png": "[encoded data removed]",
      "text/plain": [
       "<Figure size 800x400 with 1 Axes>"
      ]
     },
     "metadata": {},
     "output_type": "display_data"
    },
    {
     "name": "stderr",
     "output_type": "stream",
     "text": [
      "/opt/conda/lib/python3.10/site-packages/seaborn/_oldcore.py:1119: FutureWarning: use_inf_as_na option is deprecated and will be removed in a future version. Convert inf values to NaN before operating instead.\n",
      "  with pd.option_context('mode.use_inf_as_na', True):\n"
     ]
    },
    {
     "data": {
      "image/png": "[encoded data removed]",
      "text/plain": [
       "<Figure size 800x400 with 1 Axes>"
      ]
     },
     "metadata": {},
     "output_type": "display_data"
    },
    {
     "name": "stderr",
     "output_type": "stream",
     "text": [
      "/opt/conda/lib/python3.10/site-packages/seaborn/_oldcore.py:1119: FutureWarning: use_inf_as_na option is deprecated and will be removed in a future version. Convert inf values to NaN before operating instead.\n",
      "  with pd.option_context('mode.use_inf_as_na', True):\n"
     ]
    },
    {
     "data": {
      "image/png": "[encoded data removed]",
      "text/plain": [
       "<Figure size 800x400 with 1 Axes>"
      ]
     },
     "metadata": {},
     "output_type": "display_data"
    },
    {
     "name": "stderr",
     "output_type": "stream",
     "text": [
      "/opt/conda/lib/python3.10/site-packages/seaborn/_oldcore.py:1119: FutureWarning: use_inf_as_na option is deprecated and will be removed in a future version. Convert inf values to NaN before operating instead.\n",
      "  with pd.option_context('mode.use_inf_as_na', True):\n"
     ]
    },
    {
     "data": {
      "image/png": "[encoded data removed]",
      "text/plain": [
       "<Figure size 800x400 with 1 Axes>"
      ]
     },
     "metadata": {},
     "output_type": "display_data"
    },
    {
     "name": "stderr",
     "output_type": "stream",
     "text": [
      "/opt/conda/lib/python3.10/site-packages/seaborn/_oldcore.py:1119: FutureWarning: use_inf_as_na option is deprecated and will be removed in a future version. Convert inf values to NaN before operating instead.\n",
      "  with pd.option_context('mode.use_inf_as_na', True):\n"
     ]
    },
    {
     "data": {
      "image/png": "[encoded data removed]",
      "text/plain": [
       "<Figure size 800x400 with 1 Axes>"
      ]
     },
     "metadata": {},
     "output_type": "display_data"
    }
   ],
   "source": [
    "# Numerical columns\n",
    "\n",
    "num_cols = ['last contact date', 'age', 'balance', 'duration', 'campaign', 'pdays', 'previous']\n",
    "for col in num_cols:\n",
    "    plt.figure(figsize=(8, 4))\n",
    "    \n",
    "    if col == 'last contact date':\n",
    "        # Convert string dates to datetime if not already\n",
    "        if train_data[col].dtype == 'O':  # Object dtype indicates strings\n",
    "            date_series = pd.to_datetime(train_data[col])\n",
    "        else:\n",
    "            date_series = train_data[col]\n",
    "            \n",
    "        # Create histogram for dates\n",
    "        sns.histplot(\n",
    "            data=date_series,\n",
    "            bins=15,\n",
    "            color='#2171b5',\n",
    "            alpha=1\n",
    "        )\n",
    "        \n",
    "        # Get min and max dates\n",
    "        min_date = date_series.min()\n",
    "        max_date = date_series.max()\n",
    "        \n",
    "        # Format dates for display\n",
    "        date_format = '%Y-%m-%d'\n",
    "        min_str = min_date.strftime(date_format)\n",
    "        max_str = max_date.strftime(date_format)\n",
    "        \n",
    "        # Set x-axis ticks to show only min and max dates\n",
    "        plt.xticks([min_date, max_date], [min_str, max_str], rotation=45)\n",
    "        \n",
    "    else:\n",
    "        # Regular numeric columns\n",
    "        sns.histplot(\n",
    "            data=train_data,\n",
    "            x=col,\n",
    "            bins=15,\n",
    "            color='#2171b5',\n",
    "            alpha=1\n",
    "        )\n",
    "        \n",
    "        # Get min and max values for numeric columns\n",
    "        min_val = train_data[col].min()\n",
    "        max_val = train_data[col].max()\n",
    "        \n",
    "        # Set x-axis ticks to show only min and max values\n",
    "        plt.xticks([min_val, max_val])\n",
    "        plt.xlim(min_val - (max_val - min_val)*0.05, max_val + (max_val - min_val)*0.05)\n",
    "    \n",
    "    # Get the current axis\n",
    "    ax = plt.gca()\n",
    "    \n",
    "    # Remove gridlines\n",
    "    ax.grid(False)\n",
    "    \n",
    "    # Remove top and right spines\n",
    "    ax.spines['top'].set_visible(False)\n",
    "    ax.spines['right'].set_visible(False)\n",
    "    \n",
    "    # Title and labels\n",
    "    plt.title(f'Distribution of {col.title()}')\n",
    "    plt.ylabel('Count')\n",
    "    \n",
    "    # Adjust layout\n",
    "    plt.tight_layout()\n",
    "    plt.show()"
   ]
  },
  {
   "cell_type": "markdown",
   "id": "5b0dbbc6",
   "metadata": {
    "papermill": {
     "duration": 0.018381,
     "end_time": "2024-11-21T21:38:03.557436",
     "exception": false,
     "start_time": "2024-11-21T21:38:03.539055",
     "status": "completed"
    },
    "tags": []
   },
   "source": [
    "### 2.2.3 Visualisation of Categorical Features\n",
    "#### Using Bar Charts"
   ]
  },
  {
   "cell_type": "code",
   "execution_count": 13,
   "id": "b9ff82f9",
   "metadata": {
    "execution": {
     "iopub.execute_input": "2024-11-21T21:38:03.597506Z",
     "iopub.status.busy": "2024-11-21T21:38:03.596973Z",
     "iopub.status.idle": "2024-11-21T21:38:04.791601Z",
     "shell.execute_reply": "2024-11-21T21:38:04.790501Z"
    },
    "papermill": {
     "duration": 1.218024,
     "end_time": "2024-11-21T21:38:04.794442",
     "exception": false,
     "start_time": "2024-11-21T21:38:03.576418",
     "status": "completed"
    },
    "tags": []
   },
   "outputs": [
    {
     "name": "stdout",
     "output_type": "stream",
     "text": [
      "\n",
      "Value Counts and Percentages for job:\n",
      "                Count  Percentage\n",
      "job                             \n",
      "blue-collar     7776   19.831170\n",
      "management      7462   19.030374\n",
      "technician      6078   15.500752\n",
      "admin.          4116   10.497054\n",
      "services        3325    8.479763\n",
      "self-employed   1862    4.748667\n",
      "retired         1824    4.651756\n",
      "entrepreneur    1805    4.603300\n",
      "unemployed      1685    4.297264\n",
      "housemaid       1656    4.223305\n",
      "student         1393    3.552575\n"
     ]
    },
    {
     "data": {
      "image/png": "[encoded data removed]",
      "text/plain": [
       "<Figure size 800x400 with 1 Axes>"
      ]
     },
     "metadata": {},
     "output_type": "display_data"
    },
    {
     "name": "stdout",
     "output_type": "stream",
     "text": [
      "\n",
      "Value Counts and Percentages for marital:\n",
      "           Count  Percentage\n",
      "marital                    \n",
      "married   22691   57.868965\n",
      "single    11250   28.690929\n",
      "divorced   5270   13.440106\n"
     ]
    },
    {
     "data": {
      "image/png": "[encoded data removed]",
      "text/plain": [
       "<Figure size 800x400 with 1 Axes>"
      ]
     },
     "metadata": {},
     "output_type": "display_data"
    },
    {
     "name": "stdout",
     "output_type": "stream",
     "text": [
      "\n",
      "Value Counts and Percentages for education:\n",
      "            Count  Percentage\n",
      "education                   \n",
      "secondary  19584   49.945168\n",
      "tertiary   11615   29.621790\n",
      "primary     6545   16.691745\n"
     ]
    },
    {
     "data": {
      "image/png": "[encoded data removed]",
      "text/plain": [
       "<Figure size 800x400 with 1 Axes>"
      ]
     },
     "metadata": {},
     "output_type": "display_data"
    },
    {
     "name": "stdout",
     "output_type": "stream",
     "text": [
      "\n",
      "Value Counts and Percentages for contact:\n",
      "            Count  Percentage\n",
      "contact                     \n",
      "cellular   25030   63.834128\n",
      "telephone   3845    9.805922\n"
     ]
    },
    {
     "data": {
      "image/png": "[encoded data removed]",
      "text/plain": [
       "<Figure size 800x400 with 1 Axes>"
      ]
     },
     "metadata": {},
     "output_type": "display_data"
    },
    {
     "name": "stdout",
     "output_type": "stream",
     "text": [
      "\n",
      "Value Counts and Percentages for poutcome:\n",
      "           Count  Percentage\n",
      "poutcome                   \n",
      "failure    4949   12.621458\n",
      "other      2560    6.528780\n",
      "success    2251    5.740736\n"
     ]
    },
    {
     "data": {
      "image/png": "[encoded data removed]",
      "text/plain": [
       "<Figure size 800x400 with 1 Axes>"
      ]
     },
     "metadata": {},
     "output_type": "display_data"
    }
   ],
   "source": [
    "# Value counts with percentage for categorical columns\n",
    "categorical_cols = ['job', 'marital', 'education', 'contact', 'poutcome']\n",
    "for col in categorical_cols:\n",
    "    value_counts = train_data[col].value_counts()\n",
    "    percentages = value_counts / len(train_data) * 100\n",
    "    value_counts_df = pd.DataFrame({'Count': value_counts, 'Percentage': percentages})\n",
    "    print(f\"\\nValue Counts and Percentages for {col}:\\n\", value_counts_df)\n",
    "    \n",
    "    # Plot the bar chart for categorical columns\n",
    "    plt.figure(figsize=(8, 4))\n",
    "    sns.barplot(x=value_counts.index, y=value_counts.values)\n",
    "    plt.title(f'Bar Chart of {col}')\n",
    "    plt.ylabel('Count')\n",
    "    plt.xticks(rotation=45)\n",
    "    plt.show()"
   ]
  },
  {
   "cell_type": "markdown",
   "id": "ee86094e",
   "metadata": {
    "papermill": {
     "duration": 0.020798,
     "end_time": "2024-11-21T21:38:04.841856",
     "exception": false,
     "start_time": "2024-11-21T21:38:04.821058",
     "status": "completed"
    },
    "tags": []
   },
   "source": [
    "### 2.2.4 Visualisation of Binary (Yes or No) Features\n",
    "#### Using Pie Charts"
   ]
  },
  {
   "cell_type": "code",
   "execution_count": 14,
   "id": "88405130",
   "metadata": {
    "execution": {
     "iopub.execute_input": "2024-11-21T21:38:04.886004Z",
     "iopub.status.busy": "2024-11-21T21:38:04.885590Z",
     "iopub.status.idle": "2024-11-21T21:38:05.499498Z",
     "shell.execute_reply": "2024-11-21T21:38:05.498030Z"
    },
    "papermill": {
     "duration": 0.640061,
     "end_time": "2024-11-21T21:38:05.503280",
     "exception": false,
     "start_time": "2024-11-21T21:38:04.863219",
     "status": "completed"
    },
    "tags": []
   },
   "outputs": [
    {
     "data": {
      "image/png": "[encoded data removed]",
      "text/plain": [
       "<Figure size 600x600 with 1 Axes>"
      ]
     },
     "metadata": {},
     "output_type": "display_data"
    },
    {
     "data": {
      "image/png": "[encoded data removed]",
      "text/plain": [
       "<Figure size 600x600 with 1 Axes>"
      ]
     },
     "metadata": {},
     "output_type": "display_data"
    },
    {
     "data": {
      "image/png": "[encoded data removed]",
      "text/plain": [
       "<Figure size 600x600 with 1 Axes>"
      ]
     },
     "metadata": {},
     "output_type": "display_data"
    },
    {
     "data": {
      "image/png": "[encoded data removed]",
      "text/plain": [
       "<Figure size 600x600 with 1 Axes>"
      ]
     },
     "metadata": {},
     "output_type": "display_data"
    }
   ],
   "source": [
    "pie_cols = ['default', 'housing', 'loan', 'target']\n",
    "for col in pie_cols:\n",
    "    plt.figure(figsize=(6, 6))\n",
    "    train_data[col].value_counts().plot.pie(autopct='%1.1f%%', startangle=90, colors=['lightblue', 'lightcoral'], explode=[0.05, 0])\n",
    "    plt.title(f'Pie Chart of {col}')\n",
    "    plt.ylabel('')  # Hide y-label for better visual\n",
    "    plt.show()"
   ]
  },
  {
   "cell_type": "markdown",
   "id": "f8d3859c",
   "metadata": {
    "papermill": {
     "duration": 0.030777,
     "end_time": "2024-11-21T21:38:05.576997",
     "exception": false,
     "start_time": "2024-11-21T21:38:05.546220",
     "status": "completed"
    },
    "tags": []
   },
   "source": [
    "## 2.3 Data Pre Processing and Missing Values Imputation\n",
    "\n",
    "### 2.3.1 Feature Engineering\n",
    "#### Separating Date to Year, Month and Day"
   ]
  },
  {
   "cell_type": "code",
   "execution_count": 15,
   "id": "122aed90",
   "metadata": {
    "execution": {
     "iopub.execute_input": "2024-11-21T21:38:05.622628Z",
     "iopub.status.busy": "2024-11-21T21:38:05.622219Z",
     "iopub.status.idle": "2024-11-21T21:38:05.652827Z",
     "shell.execute_reply": "2024-11-21T21:38:05.651280Z"
    },
    "papermill": {
     "duration": 0.056415,
     "end_time": "2024-11-21T21:38:05.655465",
     "exception": false,
     "start_time": "2024-11-21T21:38:05.599050",
     "status": "completed"
    },
    "tags": []
   },
   "outputs": [],
   "source": [
    "train_data['last contact date'] = pd.to_datetime(train_data['last contact date'])\n",
    "\n",
    "train_data['contact_year'] = train_data['last contact date'].dt.year\n",
    "train_data['contact_month'] = train_data['last contact date'].dt.month\n",
    "train_data['contact_day'] = train_data['last contact date'].dt.day\n",
    "\n",
    "train_data.drop(columns=['last contact date'], inplace=True)"
   ]
  },
  {
   "cell_type": "code",
   "execution_count": 16,
   "id": "98f989b1",
   "metadata": {
    "execution": {
     "iopub.execute_input": "2024-11-21T21:38:05.701831Z",
     "iopub.status.busy": "2024-11-21T21:38:05.701376Z",
     "iopub.status.idle": "2024-11-21T21:38:05.717075Z",
     "shell.execute_reply": "2024-11-21T21:38:05.715870Z"
    },
    "papermill": {
     "duration": 0.041845,
     "end_time": "2024-11-21T21:38:05.719417",
     "exception": false,
     "start_time": "2024-11-21T21:38:05.677572",
     "status": "completed"
    },
    "tags": []
   },
   "outputs": [],
   "source": [
    "test_data['last contact date'] = pd.to_datetime(test_data['last contact date'])\n",
    "\n",
    "test_data['contact_year'] = test_data['last contact date'].dt.year\n",
    "test_data['contact_month'] = test_data['last contact date'].dt.month\n",
    "test_data['contact_day'] = test_data['last contact date'].dt.day\n",
    "\n",
    "test_data.drop(columns=['last contact date'], inplace=True)"
   ]
  },
  {
   "cell_type": "markdown",
   "id": "f1b4eb78",
   "metadata": {
    "papermill": {
     "duration": 0.021799,
     "end_time": "2024-11-21T21:38:05.763165",
     "exception": false,
     "start_time": "2024-11-21T21:38:05.741366",
     "status": "completed"
    },
    "tags": []
   },
   "source": [
    "#### Preparing the Target Feature\n",
    "#### Mapping with Yes: 1 and No: 0"
   ]
  },
  {
   "cell_type": "code",
   "execution_count": 17,
   "id": "b329ccc6",
   "metadata": {
    "execution": {
     "iopub.execute_input": "2024-11-21T21:38:05.809899Z",
     "iopub.status.busy": "2024-11-21T21:38:05.809485Z",
     "iopub.status.idle": "2024-11-21T21:38:05.823756Z",
     "shell.execute_reply": "2024-11-21T21:38:05.822730Z"
    },
    "papermill": {
     "duration": 0.040591,
     "end_time": "2024-11-21T21:38:05.826384",
     "exception": false,
     "start_time": "2024-11-21T21:38:05.785793",
     "status": "completed"
    },
    "tags": []
   },
   "outputs": [],
   "source": [
    "X = train_data.drop(columns=['target'])\n",
    "y = train_data['target'].map({'yes': 1, 'no': 0})"
   ]
  },
  {
   "cell_type": "code",
   "execution_count": 18,
   "id": "1f6c226e",
   "metadata": {
    "execution": {
     "iopub.execute_input": "2024-11-21T21:38:05.873463Z",
     "iopub.status.busy": "2024-11-21T21:38:05.873007Z",
     "iopub.status.idle": "2024-11-21T21:38:05.880036Z",
     "shell.execute_reply": "2024-11-21T21:38:05.879055Z"
    },
    "papermill": {
     "duration": 0.033341,
     "end_time": "2024-11-21T21:38:05.882065",
     "exception": false,
     "start_time": "2024-11-21T21:38:05.848724",
     "status": "completed"
    },
    "tags": []
   },
   "outputs": [
    {
     "data": {
      "text/plain": [
       "Index(['age', 'job', 'marital', 'education', 'default', 'balance', 'housing',\n",
       "       'loan', 'contact', 'duration', 'campaign', 'pdays', 'previous',\n",
       "       'poutcome', 'contact_year', 'contact_month', 'contact_day'],\n",
       "      dtype='object')"
      ]
     },
     "execution_count": 18,
     "metadata": {},
     "output_type": "execute_result"
    }
   ],
   "source": [
    "X.columns"
   ]
  },
  {
   "cell_type": "markdown",
   "id": "74c3de6b",
   "metadata": {
    "papermill": {
     "duration": 0.022477,
     "end_time": "2024-11-21T21:38:05.926656",
     "exception": false,
     "start_time": "2024-11-21T21:38:05.904179",
     "status": "completed"
    },
    "tags": []
   },
   "source": [
    "### 2.3.2 Data Preprcessing with Pipelines\n",
    "\n",
    "\n",
    "* #### Scaling Numerical Features\r",
    "* #### Encoding Categorical Features"
   ]
  },
  {
   "cell_type": "code",
   "execution_count": 19,
   "id": "1ac4d424",
   "metadata": {
    "execution": {
     "iopub.execute_input": "2024-11-21T21:38:05.975816Z",
     "iopub.status.busy": "2024-11-21T21:38:05.975292Z",
     "iopub.status.idle": "2024-11-21T21:38:06.791993Z",
     "shell.execute_reply": "2024-11-21T21:38:06.790759Z"
    },
    "papermill": {
     "duration": 0.844822,
     "end_time": "2024-11-21T21:38:06.794420",
     "exception": false,
     "start_time": "2024-11-21T21:38:05.949598",
     "status": "completed"
    },
    "tags": []
   },
   "outputs": [
    {
     "name": "stdout",
     "output_type": "stream",
     "text": [
      "(39211, 34)\n",
      "   contact_year  contact_month  contact_day       age  job_admin.  \\\n",
      "0          2009              4           17 -1.268393         0.0   \n",
      "1          2009             10           11  0.777371         0.0   \n",
      "2          2010             11           20  0.147905         0.0   \n",
      "3          2009              9            1 -0.717610         1.0   \n",
      "4          2008              1           29 -0.874977         0.0   \n",
      "\n",
      "   job_blue-collar  job_entrepreneur  job_housemaid  job_management  \\\n",
      "0              1.0               0.0            0.0             0.0   \n",
      "1              0.0               0.0            0.0             0.0   \n",
      "2              1.0               0.0            0.0             0.0   \n",
      "3              0.0               0.0            0.0             0.0   \n",
      "4              0.0               1.0            0.0             0.0   \n",
      "\n",
      "   job_retired  ...  contact_telephone  contact_unknown  duration  campaign  \\\n",
      "0          0.0  ...                0.0              0.0  0.072590  0.016129   \n",
      "1          0.0  ...                1.0              0.0  0.032534  0.000000   \n",
      "2          0.0  ...                0.0              0.0  0.066287  0.000000   \n",
      "3          0.0  ...                1.0              0.0  0.021147  0.032258   \n",
      "4          0.0  ...                0.0              0.0  0.090484  0.016129   \n",
      "\n",
      "      pdays  previous  poutcome_failure  poutcome_other  poutcome_success  \\\n",
      "0  0.380734  0.003636               0.0             1.0               0.0   \n",
      "1  0.000000  0.000000               0.0             0.0               0.0   \n",
      "2  0.000000  0.000000               0.0             0.0               0.0   \n",
      "3  0.000000  0.000000               0.0             0.0               0.0   \n",
      "4  0.000000  0.000000               0.0             0.0               0.0   \n",
      "\n",
      "   poutcome_unknown  \n",
      "0               0.0  \n",
      "1               1.0  \n",
      "2               1.0  \n",
      "3               1.0  \n",
      "4               1.0  \n",
      "\n",
      "[5 rows x 34 columns]\n"
     ]
    }
   ],
   "source": [
    "from sklearn.preprocessing import StandardScaler, MinMaxScaler, OrdinalEncoder, OneHotEncoder\n",
    "from sklearn.compose import ColumnTransformer\n",
    "from sklearn.pipeline import Pipeline\n",
    "from sklearn.impute import SimpleImputer\n",
    "\n",
    "transformers = [\n",
    "    ('contact_year', 'passthrough', ['contact_year']),\n",
    "    ('contact_month', 'passthrough', ['contact_month']),\n",
    "    ('contact_day', 'passthrough', ['contact_day']),\n",
    "    ('age', StandardScaler(), ['age']),\n",
    "    ('job', Pipeline(steps=[\n",
    "        ('imputer', SimpleImputer(strategy='most_frequent')),\n",
    "        ('onehot', OneHotEncoder(handle_unknown='ignore', sparse_output=False))\n",
    "    ]), ['job']),\n",
    "    ('marital', OneHotEncoder(handle_unknown='ignore', sparse_output=False), ['marital']),\n",
    "    ('education', Pipeline(steps=[\n",
    "        ('imputer', SimpleImputer(strategy='constant', fill_value='unknown')),\n",
    "        ('ordinal', OrdinalEncoder(categories=[['unknown', 'primary', 'secondary', 'tertiary']]))\n",
    "    ]), ['education']),\n",
    "    ('default', OrdinalEncoder(categories=[['no', 'yes']]), ['default']),\n",
    "    ('balance', MinMaxScaler(), ['balance']),\n",
    "    ('housing', OrdinalEncoder(categories=[['no', 'yes']]), ['housing']),\n",
    "    ('loan', OrdinalEncoder(categories=[['no', 'yes']]), ['loan']),\n",
    "    ('contact', Pipeline(steps=[\n",
    "        ('imputer', SimpleImputer(strategy='constant', fill_value='unknown')),\n",
    "        ('onehot', OneHotEncoder(handle_unknown='ignore', sparse_output=False))\n",
    "    ]), ['contact']),\n",
    "    ('duration', MinMaxScaler(), ['duration']),\n",
    "    ('campaign', MinMaxScaler(), ['campaign']),\n",
    "    ('pdays', MinMaxScaler(), ['pdays']),\n",
    "    ('previous', MinMaxScaler(), ['previous']),\n",
    "    ('poutcome', Pipeline(steps=[\n",
    "        ('imputer', SimpleImputer(strategy='constant', fill_value='unknown')),\n",
    "        ('onehot', OneHotEncoder(handle_unknown='ignore', sparse_output=False))\n",
    "    ]), ['poutcome'])\n",
    "]\n",
    "\n",
    "preprocessor = ColumnTransformer(transformers=transformers, verbose_feature_names_out=False).set_output(transform=\"pandas\")\n",
    "\n",
    "X_preprocessed = preprocessor.fit_transform(X)\n",
    "\n",
    "print(X_preprocessed.shape)\n",
    "print(X_preprocessed.head())"
   ]
  },
  {
   "cell_type": "markdown",
   "id": "4b5b7cd2",
   "metadata": {
    "papermill": {
     "duration": 0.022344,
     "end_time": "2024-11-21T21:38:06.839836",
     "exception": false,
     "start_time": "2024-11-21T21:38:06.817492",
     "status": "completed"
    },
    "tags": []
   },
   "source": [
    "#### Checking for Null Values"
   ]
  },
  {
   "cell_type": "code",
   "execution_count": 20,
   "id": "3a022064",
   "metadata": {
    "execution": {
     "iopub.execute_input": "2024-11-21T21:38:06.887582Z",
     "iopub.status.busy": "2024-11-21T21:38:06.886568Z",
     "iopub.status.idle": "2024-11-21T21:38:06.897605Z",
     "shell.execute_reply": "2024-11-21T21:38:06.896451Z"
    },
    "papermill": {
     "duration": 0.038068,
     "end_time": "2024-11-21T21:38:06.900037",
     "exception": false,
     "start_time": "2024-11-21T21:38:06.861969",
     "status": "completed"
    },
    "tags": []
   },
   "outputs": [
    {
     "name": "stdout",
     "output_type": "stream",
     "text": [
      "Null values in each column:\n",
      " contact_year         0\n",
      "contact_month        0\n",
      "contact_day          0\n",
      "age                  0\n",
      "job_admin.           0\n",
      "job_blue-collar      0\n",
      "job_entrepreneur     0\n",
      "job_housemaid        0\n",
      "job_management       0\n",
      "job_retired          0\n",
      "job_self-employed    0\n",
      "job_services         0\n",
      "job_student          0\n",
      "job_technician       0\n",
      "job_unemployed       0\n",
      "marital_divorced     0\n",
      "marital_married      0\n",
      "marital_single       0\n",
      "education            0\n",
      "default              0\n",
      "balance              0\n",
      "housing              0\n",
      "loan                 0\n",
      "contact_cellular     0\n",
      "contact_telephone    0\n",
      "contact_unknown      0\n",
      "duration             0\n",
      "campaign             0\n",
      "pdays                0\n",
      "previous             0\n",
      "poutcome_failure     0\n",
      "poutcome_other       0\n",
      "poutcome_success     0\n",
      "poutcome_unknown     0\n",
      "dtype: int64\n"
     ]
    }
   ],
   "source": [
    "null_values = X_preprocessed.isnull().sum()\n",
    "print(\"Null values in each column:\\n\", null_values)"
   ]
  },
  {
   "cell_type": "markdown",
   "id": "01310d3d",
   "metadata": {
    "papermill": {
     "duration": 0.023084,
     "end_time": "2024-11-21T21:38:06.947176",
     "exception": false,
     "start_time": "2024-11-21T21:38:06.924092",
     "status": "completed"
    },
    "tags": []
   },
   "source": [
    "# **3. Models Training, Validation and Testing**\n",
    "## 3.1 Train Test Split"
   ]
  },
  {
   "cell_type": "code",
   "execution_count": 21,
   "id": "d5a739e9",
   "metadata": {
    "execution": {
     "iopub.execute_input": "2024-11-21T21:38:06.994165Z",
     "iopub.status.busy": "2024-11-21T21:38:06.993641Z",
     "iopub.status.idle": "2024-11-21T21:38:07.020098Z",
     "shell.execute_reply": "2024-11-21T21:38:07.018724Z"
    },
    "papermill": {
     "duration": 0.053291,
     "end_time": "2024-11-21T21:38:07.022849",
     "exception": false,
     "start_time": "2024-11-21T21:38:06.969558",
     "status": "completed"
    },
    "tags": []
   },
   "outputs": [
    {
     "name": "stdout",
     "output_type": "stream",
     "text": [
      "(31368, 34)\n",
      "(31368,)\n",
      "(7843, 34)\n",
      "(7843,)\n"
     ]
    }
   ],
   "source": [
    "from sklearn.model_selection import train_test_split\n",
    "\n",
    "X_train, X_val, y_train, y_val = train_test_split(X_preprocessed, y, test_size=0.2, random_state=42)\n",
    "\n",
    "print(X_train.shape)\n",
    "print(y_train.shape)\n",
    "print(X_val.shape)\n",
    "print(y_val.shape)"
   ]
  },
  {
   "cell_type": "markdown",
   "id": "de0f86e9",
   "metadata": {
    "papermill": {
     "duration": 0.023433,
     "end_time": "2024-11-21T21:38:07.072072",
     "exception": false,
     "start_time": "2024-11-21T21:38:07.048639",
     "status": "completed"
    },
    "tags": []
   },
   "source": [
    "## 3.2 Basline Model (Logistic Regression)\n",
    "### 3.2.1 Model Prediction and Validation"
   ]
  },
  {
   "cell_type": "code",
   "execution_count": 22,
   "id": "3ea6ae78",
   "metadata": {
    "execution": {
     "iopub.execute_input": "2024-11-21T21:38:07.173664Z",
     "iopub.status.busy": "2024-11-21T21:38:07.173246Z",
     "iopub.status.idle": "2024-11-21T21:38:07.643789Z",
     "shell.execute_reply": "2024-11-21T21:38:07.642119Z"
    },
    "papermill": {
     "duration": 0.500537,
     "end_time": "2024-11-21T21:38:07.649662",
     "exception": false,
     "start_time": "2024-11-21T21:38:07.149125",
     "status": "completed"
    },
    "tags": []
   },
   "outputs": [
    {
     "name": "stdout",
     "output_type": "stream",
     "text": [
      "Baseline F1 Score (Logistic Regression): 0.6228612836700493\n"
     ]
    },
    {
     "name": "stderr",
     "output_type": "stream",
     "text": [
      "/opt/conda/lib/python3.10/site-packages/sklearn/linear_model/_logistic.py:458: ConvergenceWarning: lbfgs failed to converge (status=1):\n",
      "STOP: TOTAL NO. of ITERATIONS REACHED LIMIT.\n",
      "\n",
      "Increase the number of iterations (max_iter) or scale the data as shown in:\n",
      "    https://scikit-learn.org/stable/modules/preprocessing.html\n",
      "Please also refer to the documentation for alternative solver options:\n",
      "    https://scikit-learn.org/stable/modules/linear_model.html#logistic-regression\n",
      "  n_iter_i = _check_optimize_result(\n"
     ]
    }
   ],
   "source": [
    "from sklearn.linear_model import LogisticRegression\n",
    "from sklearn.metrics import f1_score\n",
    "\n",
    "# Initialize and train a logistic regression model\n",
    "log_model = LogisticRegression(random_state=42)\n",
    "log_model.fit(X_train, y_train)\n",
    "\n",
    "# Predictions and evaluation\n",
    "y_pred = log_model.predict(X_val)\n",
    "baseline_f1 = f1_score(y_val, y_pred, average='macro')\n",
    "print(f'Baseline F1 Score (Logistic Regression): {baseline_f1}')"
   ]
  },
  {
   "cell_type": "markdown",
   "id": "07ac4b3b",
   "metadata": {
    "papermill": {
     "duration": 0.043317,
     "end_time": "2024-11-21T21:38:07.737817",
     "exception": false,
     "start_time": "2024-11-21T21:38:07.694500",
     "status": "completed"
    },
    "tags": []
   },
   "source": [
    "### 3.2.2 Testing the Model and Submission"
   ]
  },
  {
   "cell_type": "code",
   "execution_count": 23,
   "id": "4f6166e7",
   "metadata": {
    "execution": {
     "iopub.execute_input": "2024-11-21T21:38:07.793482Z",
     "iopub.status.busy": "2024-11-21T21:38:07.793057Z",
     "iopub.status.idle": "2024-11-21T21:38:07.905206Z",
     "shell.execute_reply": "2024-11-21T21:38:07.903062Z"
    },
    "papermill": {
     "duration": 0.140312,
     "end_time": "2024-11-21T21:38:07.908453",
     "exception": false,
     "start_time": "2024-11-21T21:38:07.768141",
     "status": "completed"
    },
    "tags": []
   },
   "outputs": [
    {
     "name": "stdout",
     "output_type": "stream",
     "text": [
      "Submission file created: submission.csv\n"
     ]
    }
   ],
   "source": [
    "X_test_preprocessed = preprocessor.fit_transform(test_data)\n",
    "\n",
    "predictions = log_model.predict(X_test_preprocessed)\n",
    "\n",
    "submission_df = pd.DataFrame({\n",
    "    'id': test_data.index, \n",
    "    'target': predictions\n",
    "})\n",
    "\n",
    "# Convert target to 'yes' or 'no'\n",
    "submission_df['target'] = submission_df['target'].map({1: 'yes', 0: 'no'})  # Assuming 1 is 'yes' and 0 is 'no'\n",
    "\n",
    "# Save to CSV\n",
    "submission_df.to_csv('/kaggle/working/submission.csv', index=False)\n",
    "\n",
    "print(\"Submission file created: submission.csv\")"
   ]
  },
  {
   "cell_type": "code",
   "execution_count": 24,
   "id": "dd5b20c1",
   "metadata": {
    "execution": {
     "iopub.execute_input": "2024-11-21T21:38:07.997433Z",
     "iopub.status.busy": "2024-11-21T21:38:07.996746Z",
     "iopub.status.idle": "2024-11-21T21:38:08.008181Z",
     "shell.execute_reply": "2024-11-21T21:38:08.006840Z"
    },
    "papermill": {
     "duration": 0.058417,
     "end_time": "2024-11-21T21:38:08.010609",
     "exception": false,
     "start_time": "2024-11-21T21:38:07.952192",
     "status": "completed"
    },
    "tags": []
   },
   "outputs": [
    {
     "data": {
      "text/plain": [
       "target\n",
       "no     9436\n",
       "yes     564\n",
       "Name: count, dtype: int64"
      ]
     },
     "execution_count": 24,
     "metadata": {},
     "output_type": "execute_result"
    }
   ],
   "source": [
    "submission_df['target'].value_counts()"
   ]
  },
  {
   "cell_type": "markdown",
   "id": "62586d7e",
   "metadata": {
    "papermill": {
     "duration": 0.023056,
     "end_time": "2024-11-21T21:38:08.057044",
     "exception": false,
     "start_time": "2024-11-21T21:38:08.033988",
     "status": "completed"
    },
    "tags": []
   },
   "source": [
    "## 3.3 Hyperparameter Tuning and Gradient Descent \n",
    "### 3.3.1 Tuning Hyperparameters and Prediction with Logistic Regression (Model 1)\n",
    "### **Best Model Rank 2** - Logistic Regression with Hyperparameters Tuned"
   ]
  },
  {
   "cell_type": "code",
   "execution_count": 25,
   "id": "db0cf103",
   "metadata": {
    "execution": {
     "iopub.execute_input": "2024-11-21T21:38:08.105804Z",
     "iopub.status.busy": "2024-11-21T21:38:08.104450Z",
     "iopub.status.idle": "2024-11-21T21:39:19.238808Z",
     "shell.execute_reply": "2024-11-21T21:39:19.236250Z"
    },
    "papermill": {
     "duration": 71.163571,
     "end_time": "2024-11-21T21:39:19.243327",
     "exception": false,
     "start_time": "2024-11-21T21:38:08.079756",
     "status": "completed"
    },
    "tags": []
   },
   "outputs": [
    {
     "name": "stderr",
     "output_type": "stream",
     "text": [
      "/opt/conda/lib/python3.10/site-packages/sklearn/linear_model/_sag.py:350: ConvergenceWarning: The max_iter was reached which means the coef_ did not converge\n",
      "  warnings.warn(\n",
      "/opt/conda/lib/python3.10/site-packages/sklearn/linear_model/_sag.py:350: ConvergenceWarning: The max_iter was reached which means the coef_ did not converge\n",
      "  warnings.warn(\n",
      "/opt/conda/lib/python3.10/site-packages/sklearn/linear_model/_sag.py:350: ConvergenceWarning: The max_iter was reached which means the coef_ did not converge\n",
      "  warnings.warn(\n",
      "/opt/conda/lib/python3.10/site-packages/sklearn/linear_model/_sag.py:350: ConvergenceWarning: The max_iter was reached which means the coef_ did not converge\n",
      "  warnings.warn(\n",
      "/opt/conda/lib/python3.10/site-packages/sklearn/linear_model/_sag.py:350: ConvergenceWarning: The max_iter was reached which means the coef_ did not converge\n",
      "  warnings.warn(\n",
      "/opt/conda/lib/python3.10/site-packages/sklearn/linear_model/_sag.py:350: ConvergenceWarning: The max_iter was reached which means the coef_ did not converge\n",
      "  warnings.warn(\n",
      "/opt/conda/lib/python3.10/site-packages/sklearn/linear_model/_sag.py:350: ConvergenceWarning: The max_iter was reached which means the coef_ did not converge\n",
      "  warnings.warn(\n",
      "/opt/conda/lib/python3.10/site-packages/sklearn/linear_model/_sag.py:350: ConvergenceWarning: The max_iter was reached which means the coef_ did not converge\n",
      "  warnings.warn(\n",
      "/opt/conda/lib/python3.10/site-packages/sklearn/linear_model/_sag.py:350: ConvergenceWarning: The max_iter was reached which means the coef_ did not converge\n",
      "  warnings.warn(\n",
      "/opt/conda/lib/python3.10/site-packages/sklearn/linear_model/_sag.py:350: ConvergenceWarning: The max_iter was reached which means the coef_ did not converge\n",
      "  warnings.warn(\n",
      "/opt/conda/lib/python3.10/site-packages/sklearn/linear_model/_sag.py:350: ConvergenceWarning: The max_iter was reached which means the coef_ did not converge\n",
      "  warnings.warn(\n",
      "/opt/conda/lib/python3.10/site-packages/sklearn/linear_model/_sag.py:350: ConvergenceWarning: The max_iter was reached which means the coef_ did not converge\n",
      "  warnings.warn(\n",
      "/opt/conda/lib/python3.10/site-packages/sklearn/linear_model/_sag.py:350: ConvergenceWarning: The max_iter was reached which means the coef_ did not converge\n",
      "  warnings.warn(\n",
      "/opt/conda/lib/python3.10/site-packages/sklearn/model_selection/_validation.py:378: FitFailedWarning: \n",
      "80 fits failed out of a total of 240.\n",
      "The score on these train-test partitions for these parameters will be set to nan.\n",
      "If these failures are not expected, you can try to debug them by setting error_score='raise'.\n",
      "\n",
      "Below are more details about the failures:\n",
      "--------------------------------------------------------------------------------\n",
      "40 fits failed with the following error:\n",
      "Traceback (most recent call last):\n",
      "  File \"/opt/conda/lib/python3.10/site-packages/sklearn/model_selection/_validation.py\", line 686, in _fit_and_score\n",
      "    estimator.fit(X_train, y_train, **fit_params)\n",
      "  File \"/opt/conda/lib/python3.10/site-packages/sklearn/pipeline.py\", line 405, in fit\n",
      "    self._final_estimator.fit(Xt, y, **fit_params_last_step)\n",
      "  File \"/opt/conda/lib/python3.10/site-packages/sklearn/linear_model/_logistic.py\", line 1162, in fit\n",
      "    solver = _check_solver(self.solver, self.penalty, self.dual)\n",
      "  File \"/opt/conda/lib/python3.10/site-packages/sklearn/linear_model/_logistic.py\", line 64, in _check_solver\n",
      "    raise ValueError(\n",
      "ValueError: Only 'saga' solver supports elasticnet penalty, got solver=liblinear.\n",
      "\n",
      "--------------------------------------------------------------------------------\n",
      "40 fits failed with the following error:\n",
      "Traceback (most recent call last):\n",
      "  File \"/opt/conda/lib/python3.10/site-packages/sklearn/model_selection/_validation.py\", line 686, in _fit_and_score\n",
      "    estimator.fit(X_train, y_train, **fit_params)\n",
      "  File \"/opt/conda/lib/python3.10/site-packages/sklearn/pipeline.py\", line 405, in fit\n",
      "    self._final_estimator.fit(Xt, y, **fit_params_last_step)\n",
      "  File \"/opt/conda/lib/python3.10/site-packages/sklearn/linear_model/_logistic.py\", line 1291, in fit\n",
      "    fold_coefs_ = Parallel(n_jobs=self.n_jobs, verbose=self.verbose, prefer=prefer)(\n",
      "  File \"/opt/conda/lib/python3.10/site-packages/sklearn/utils/parallel.py\", line 63, in __call__\n",
      "    return super().__call__(iterable_with_config)\n",
      "  File \"/opt/conda/lib/python3.10/site-packages/joblib/parallel.py\", line 1918, in __call__\n",
      "    return output if self.return_generator else list(output)\n",
      "  File \"/opt/conda/lib/python3.10/site-packages/joblib/parallel.py\", line 1847, in _get_sequential_output\n",
      "    res = func(*args, **kwargs)\n",
      "  File \"/opt/conda/lib/python3.10/site-packages/sklearn/utils/parallel.py\", line 123, in __call__\n",
      "    return self.function(*args, **kwargs)\n",
      "  File \"/opt/conda/lib/python3.10/site-packages/sklearn/linear_model/_logistic.py\", line 521, in _logistic_regression_path\n",
      "    alpha = (1.0 / C) * (1 - l1_ratio)\n",
      "TypeError: unsupported operand type(s) for -: 'int' and 'NoneType'\n",
      "\n",
      "  warnings.warn(some_fits_failed_message, FitFailedWarning)\n",
      "/opt/conda/lib/python3.10/site-packages/sklearn/model_selection/_search.py:952: UserWarning: One or more of the test scores are non-finite: [0.60857887 0.6065068  0.62132135 0.61667307        nan        nan\n",
      " 0.71704009 0.71868285 0.70852037 0.7099629         nan        nan\n",
      " 0.61897581 0.61865349 0.61996716 0.61971935        nan        nan\n",
      " 0.7131732  0.71355931 0.71211013 0.71223852        nan        nan\n",
      " 0.61993291 0.61993291 0.6197578  0.6196184         nan        nan\n",
      " 0.71250231 0.71250231 0.71230485 0.71223633        nan        nan\n",
      " 0.6196184  0.6196184  0.6196184  0.6196184         nan        nan\n",
      " 0.71237332 0.71237332 0.71240521 0.71237332        nan        nan]\n",
      "  warnings.warn(\n"
     ]
    },
    {
     "name": "stdout",
     "output_type": "stream",
     "text": [
      "Improved F1 Score (Logistic Regression): 0.7136576001228656\n"
     ]
    }
   ],
   "source": [
    "from sklearn.linear_model import LogisticRegression\n",
    "from sklearn.model_selection import GridSearchCV, train_test_split\n",
    "from sklearn.pipeline import Pipeline\n",
    "from sklearn.preprocessing import StandardScaler\n",
    "from sklearn.metrics import f1_score, accuracy_score\n",
    "\n",
    "pipeline = Pipeline([\n",
    "    ('scaler', StandardScaler()),\n",
    "    ('log_reg', LogisticRegression(class_weight='balanced',random_state=42))\n",
    "])\n",
    "\n",
    "# parameter grid for hyperparameter tuning\n",
    "param_grid = {\n",
    "    'log_reg__C': [0.01, 0.1, 1, 10],\n",
    "    'log_reg__penalty': ['l1', 'l2', 'elasticnet'],\n",
    "    'log_reg__solver': ['liblinear', 'saga'],\n",
    "    'log_reg__class_weight': [None, 'balanced']\n",
    "}\n",
    "\n",
    "grid_search = GridSearchCV(pipeline, param_grid, cv=5, scoring='f1_macro', n_jobs=-1)\n",
    "grid_search.fit(X_train, y_train)\n",
    "\n",
    "# Best model\n",
    "best_model = grid_search.best_estimator_\n",
    "\n",
    "y_pred = best_model.predict(X_val)\n",
    "improved_f1 = f1_score(y_val, y_pred, average='macro')\n",
    "print(f'Improved F1 Score (Logistic Regression): {improved_f1}')"
   ]
  },
  {
   "cell_type": "code",
   "execution_count": 26,
   "id": "175e1dc2",
   "metadata": {
    "execution": {
     "iopub.execute_input": "2024-11-21T21:39:19.336695Z",
     "iopub.status.busy": "2024-11-21T21:39:19.333543Z",
     "iopub.status.idle": "2024-11-21T21:39:19.347849Z",
     "shell.execute_reply": "2024-11-21T21:39:19.346867Z"
    },
    "papermill": {
     "duration": 0.062345,
     "end_time": "2024-11-21T21:39:19.350037",
     "exception": false,
     "start_time": "2024-11-21T21:39:19.287692",
     "status": "completed"
    },
    "tags": []
   },
   "outputs": [
    {
     "name": "stdout",
     "output_type": "stream",
     "text": [
      "Best Parameters: {'log_reg__C': 0.01, 'log_reg__class_weight': 'balanced', 'log_reg__penalty': 'l1', 'log_reg__solver': 'saga'}\n"
     ]
    }
   ],
   "source": [
    "print(f\"Best Parameters: {grid_search.best_params_}\")"
   ]
  },
  {
   "cell_type": "markdown",
   "id": "4c24f7f6",
   "metadata": {
    "papermill": {
     "duration": 0.023321,
     "end_time": "2024-11-21T21:39:19.398011",
     "exception": false,
     "start_time": "2024-11-21T21:39:19.374690",
     "status": "completed"
    },
    "tags": []
   },
   "source": [
    "### 3.3.2 Testing and Submission of Model Prediction"
   ]
  },
  {
   "cell_type": "code",
   "execution_count": 27,
   "id": "4b7f51a8",
   "metadata": {
    "execution": {
     "iopub.execute_input": "2024-11-21T21:39:19.448941Z",
     "iopub.status.busy": "2024-11-21T21:39:19.448534Z",
     "iopub.status.idle": "2024-11-21T21:39:19.564210Z",
     "shell.execute_reply": "2024-11-21T21:39:19.561205Z"
    },
    "papermill": {
     "duration": 0.146412,
     "end_time": "2024-11-21T21:39:19.568656",
     "exception": false,
     "start_time": "2024-11-21T21:39:19.422244",
     "status": "completed"
    },
    "tags": []
   },
   "outputs": [
    {
     "name": "stdout",
     "output_type": "stream",
     "text": [
      "Submission file created: submission_2.csv\n"
     ]
    }
   ],
   "source": [
    "import pandas as pd\n",
    "from sklearn.preprocessing import StandardScaler\n",
    "from sklearn.pipeline import Pipeline\n",
    "from sklearn.metrics import f1_score, accuracy_score\n",
    "\n",
    "X_test_preprocessed = preprocessor.fit_transform(test_data)\n",
    "\n",
    "predictions = best_model.predict(X_test_preprocessed)\n",
    "\n",
    "submission_df = pd.DataFrame({\n",
    "    'id': test_data.index,  \n",
    "    'target': predictions\n",
    "})\n",
    "\n",
    "# Convert target to 'yes' or 'no'\n",
    "submission_df['target'] = submission_df['target'].map({1: 'yes', 0: 'no'})  # Assuming 1 is 'yes' and 0 is 'no'\n",
    "\n",
    "# Save to CSV\n",
    "submission_df.to_csv('submission_2.csv', index=False)\n",
    "\n",
    "print(\"Submission file created: submission_2.csv\")\n"
   ]
  },
  {
   "cell_type": "markdown",
   "id": "8c8e5931",
   "metadata": {
    "papermill": {
     "duration": 0.044242,
     "end_time": "2024-11-21T21:39:19.657757",
     "exception": false,
     "start_time": "2024-11-21T21:39:19.613515",
     "status": "completed"
    },
    "tags": []
   },
   "source": [
    "#### Test Validation Score: 0.72726"
   ]
  },
  {
   "cell_type": "code",
   "execution_count": 28,
   "id": "a2a6c167",
   "metadata": {
    "execution": {
     "iopub.execute_input": "2024-11-21T21:39:19.708565Z",
     "iopub.status.busy": "2024-11-21T21:39:19.707573Z",
     "iopub.status.idle": "2024-11-21T21:39:19.718118Z",
     "shell.execute_reply": "2024-11-21T21:39:19.716753Z"
    },
    "papermill": {
     "duration": 0.038157,
     "end_time": "2024-11-21T21:39:19.720582",
     "exception": false,
     "start_time": "2024-11-21T21:39:19.682425",
     "status": "completed"
    },
    "tags": []
   },
   "outputs": [
    {
     "data": {
      "text/plain": [
       "target\n",
       "no     7620\n",
       "yes    2380\n",
       "Name: count, dtype: int64"
      ]
     },
     "execution_count": 28,
     "metadata": {},
     "output_type": "execute_result"
    }
   ],
   "source": [
    "submission_df['target'].value_counts()"
   ]
  },
  {
   "cell_type": "markdown",
   "id": "7db8ad76",
   "metadata": {
    "papermill": {
     "duration": 0.024429,
     "end_time": "2024-11-21T21:39:19.768622",
     "exception": false,
     "start_time": "2024-11-21T21:39:19.744193",
     "status": "completed"
    },
    "tags": []
   },
   "source": [
    "## 3.4 Dimensionality Reduction and Feature Selection\n",
    "### 3.4.1 PCA for Model Prediction"
   ]
  },
  {
   "cell_type": "code",
   "execution_count": 29,
   "id": "ae95ad9a",
   "metadata": {
    "execution": {
     "iopub.execute_input": "2024-11-21T21:39:19.818538Z",
     "iopub.status.busy": "2024-11-21T21:39:19.818156Z",
     "iopub.status.idle": "2024-11-21T21:39:20.509841Z",
     "shell.execute_reply": "2024-11-21T21:39:20.508219Z"
    },
    "papermill": {
     "duration": 0.723747,
     "end_time": "2024-11-21T21:39:20.516022",
     "exception": false,
     "start_time": "2024-11-21T21:39:19.792275",
     "status": "completed"
    },
    "tags": []
   },
   "outputs": [
    {
     "name": "stdout",
     "output_type": "stream",
     "text": [
      "[0.16341178 0.07019936 0.05932552 0.05187034 0.04189834 0.0391188\n",
      " 0.03663255 0.03383021 0.03308643 0.03244264 0.03162329 0.03109862\n",
      " 0.03104638 0.03082578 0.02983503 0.02933248 0.02827802 0.02747657\n",
      " 0.02616895 0.02532874 0.02377759 0.02150049 0.01969799 0.01763405]\n"
     ]
    }
   ],
   "source": [
    "from sklearn.decomposition import PCA\n",
    "from sklearn.preprocessing import StandardScaler\n",
    "\n",
    "scaler = StandardScaler()\n",
    "X_train_scaled = scaler.fit_transform(X_train)\n",
    "X_val_scaled = scaler.transform(X_val)\n",
    "\n",
    "pca = PCA(n_components=24)  # Adjust n_components based on explained variance\n",
    "X_train_pca = pca.fit_transform(X_train_scaled)\n",
    "X_val_pca = pca.transform(X_val_scaled)\n",
    "\n",
    "# Check explained variance ratio\n",
    "print(pca.explained_variance_ratio_)"
   ]
  },
  {
   "cell_type": "code",
   "execution_count": 30,
   "id": "3013af40",
   "metadata": {
    "execution": {
     "iopub.execute_input": "2024-11-21T21:39:20.617384Z",
     "iopub.status.busy": "2024-11-21T21:39:20.616979Z",
     "iopub.status.idle": "2024-11-21T21:39:20.623426Z",
     "shell.execute_reply": "2024-11-21T21:39:20.622134Z"
    },
    "papermill": {
     "duration": 0.055513,
     "end_time": "2024-11-21T21:39:20.625858",
     "exception": false,
     "start_time": "2024-11-21T21:39:20.570345",
     "status": "completed"
    },
    "tags": []
   },
   "outputs": [
    {
     "name": "stdout",
     "output_type": "stream",
     "text": [
      "[0.16341178 0.23361113 0.29293666 0.344807   0.38670534 0.42582414\n",
      " 0.46245669 0.4962869  0.52937333 0.56181598 0.59343927 0.62453789\n",
      " 0.65558427 0.68641005 0.71624508 0.74557756 0.77385557 0.80133215\n",
      " 0.82750109 0.85282983 0.87660743 0.89810792 0.91780591 0.93543996]\n"
     ]
    }
   ],
   "source": [
    "# Calculate cumulative explained variance\n",
    "cumulative_variance = pca.explained_variance_ratio_.cumsum()\n",
    "print(cumulative_variance)"
   ]
  },
  {
   "cell_type": "code",
   "execution_count": 31,
   "id": "bf13f192",
   "metadata": {
    "execution": {
     "iopub.execute_input": "2024-11-21T21:39:20.676462Z",
     "iopub.status.busy": "2024-11-21T21:39:20.676046Z",
     "iopub.status.idle": "2024-11-21T21:39:21.455203Z",
     "shell.execute_reply": "2024-11-21T21:39:21.450786Z"
    },
    "papermill": {
     "duration": 0.807933,
     "end_time": "2024-11-21T21:39:21.458530",
     "exception": false,
     "start_time": "2024-11-21T21:39:20.650597",
     "status": "completed"
    },
    "tags": []
   },
   "outputs": [],
   "source": [
    "pca = PCA(n_components=24)\n",
    "X_train_pca = pca.fit_transform(X_train_scaled)\n",
    "X_val_pca = pca.transform(X_val_scaled)"
   ]
  },
  {
   "cell_type": "markdown",
   "id": "03bfb298",
   "metadata": {
    "papermill": {
     "duration": 0.040778,
     "end_time": "2024-11-21T21:39:21.559345",
     "exception": false,
     "start_time": "2024-11-21T21:39:21.518567",
     "status": "completed"
    },
    "tags": []
   },
   "source": [
    "### Naive Bayes Model with PCA (Model 2)"
   ]
  },
  {
   "cell_type": "code",
   "execution_count": 32,
   "id": "ee0441e4",
   "metadata": {
    "execution": {
     "iopub.execute_input": "2024-11-21T21:39:21.611487Z",
     "iopub.status.busy": "2024-11-21T21:39:21.611101Z",
     "iopub.status.idle": "2024-11-21T21:39:21.645005Z",
     "shell.execute_reply": "2024-11-21T21:39:21.643855Z"
    },
    "papermill": {
     "duration": 0.061966,
     "end_time": "2024-11-21T21:39:21.647380",
     "exception": false,
     "start_time": "2024-11-21T21:39:21.585414",
     "status": "completed"
    },
    "tags": []
   },
   "outputs": [
    {
     "name": "stdout",
     "output_type": "stream",
     "text": [
      "F1 Score (Naive Bayes): 0.6298416371354445\n"
     ]
    }
   ],
   "source": [
    "from sklearn.naive_bayes import GaussianNB\n",
    "from sklearn.metrics import f1_score\n",
    "\n",
    "nb_model = GaussianNB()\n",
    "nb_model.fit(X_train_pca, y_train)\n",
    "y_pred_nb = nb_model.predict(X_val_pca)\n",
    "\n",
    "f1_nb = f1_score(y_val, y_pred_nb, average='macro')\n",
    "print(f'F1 Score (Naive Bayes): {f1_nb}')"
   ]
  },
  {
   "cell_type": "markdown",
   "id": "f6dfb085",
   "metadata": {
    "papermill": {
     "duration": 0.023457,
     "end_time": "2024-11-21T21:39:21.694687",
     "exception": false,
     "start_time": "2024-11-21T21:39:21.671230",
     "status": "completed"
    },
    "tags": []
   },
   "source": [
    "### KNN with PCA (Model 3)"
   ]
  },
  {
   "cell_type": "code",
   "execution_count": 33,
   "id": "df057dfd",
   "metadata": {
    "execution": {
     "iopub.execute_input": "2024-11-21T21:39:21.744264Z",
     "iopub.status.busy": "2024-11-21T21:39:21.743802Z",
     "iopub.status.idle": "2024-11-21T21:39:22.747292Z",
     "shell.execute_reply": "2024-11-21T21:39:22.745964Z"
    },
    "papermill": {
     "duration": 1.030927,
     "end_time": "2024-11-21T21:39:22.749459",
     "exception": false,
     "start_time": "2024-11-21T21:39:21.718532",
     "status": "completed"
    },
    "tags": []
   },
   "outputs": [
    {
     "name": "stdout",
     "output_type": "stream",
     "text": [
      "F1 Score (k-NN): 0.6471915662691227\n"
     ]
    }
   ],
   "source": [
    "from sklearn.neighbors import KNeighborsClassifier\n",
    "\n",
    "knn_model = KNeighborsClassifier(n_neighbors=5) \n",
    "knn_model.fit(X_train_pca, y_train)\n",
    "y_pred_knn = knn_model.predict(X_val_pca)\n",
    "\n",
    "f1_knn = f1_score(y_val, y_pred_knn, average='macro')\n",
    "print(f'F1 Score (k-NN): {f1_knn}')"
   ]
  },
  {
   "cell_type": "markdown",
   "id": "83bca34e",
   "metadata": {
    "papermill": {
     "duration": 0.024291,
     "end_time": "2024-11-21T21:39:22.797929",
     "exception": false,
     "start_time": "2024-11-21T21:39:22.773638",
     "status": "completed"
    },
    "tags": []
   },
   "source": [
    "### SVM with PCA (Model 4)"
   ]
  },
  {
   "cell_type": "code",
   "execution_count": 34,
   "id": "5da0b547",
   "metadata": {
    "execution": {
     "iopub.execute_input": "2024-11-21T21:39:22.847952Z",
     "iopub.status.busy": "2024-11-21T21:39:22.847514Z",
     "iopub.status.idle": "2024-11-21T21:40:03.232207Z",
     "shell.execute_reply": "2024-11-21T21:40:03.230919Z"
    },
    "papermill": {
     "duration": 40.437937,
     "end_time": "2024-11-21T21:40:03.260145",
     "exception": false,
     "start_time": "2024-11-21T21:39:22.822208",
     "status": "completed"
    },
    "tags": []
   },
   "outputs": [
    {
     "name": "stdout",
     "output_type": "stream",
     "text": [
      "F1 Score (SVM): 0.638265225915176\n"
     ]
    }
   ],
   "source": [
    "from sklearn.svm import SVC\n",
    "\n",
    "svm_model = SVC(kernel='rbf', C=1, random_state=42)  # Try different kernels like 'linear', 'poly'\n",
    "svm_model.fit(X_train_pca, y_train)\n",
    "y_pred_svm = svm_model.predict(X_val_pca)\n",
    "\n",
    "f1_svm = f1_score(y_val, y_pred_svm, average='macro')\n",
    "print(f'F1 Score (SVM): {f1_svm}')"
   ]
  },
  {
   "cell_type": "markdown",
   "id": "950d0506",
   "metadata": {
    "papermill": {
     "duration": 0.023938,
     "end_time": "2024-11-21T21:40:03.308136",
     "exception": false,
     "start_time": "2024-11-21T21:40:03.284198",
     "status": "completed"
    },
    "tags": []
   },
   "source": [
    "### 3.4.2 Feature Selection for Model Prediction"
   ]
  },
  {
   "cell_type": "code",
   "execution_count": 35,
   "id": "aa462c2d",
   "metadata": {
    "execution": {
     "iopub.execute_input": "2024-11-21T21:40:03.359396Z",
     "iopub.status.busy": "2024-11-21T21:40:03.358926Z",
     "iopub.status.idle": "2024-11-21T21:40:07.554709Z",
     "shell.execute_reply": "2024-11-21T21:40:07.553603Z"
    },
    "papermill": {
     "duration": 4.224323,
     "end_time": "2024-11-21T21:40:07.556809",
     "exception": false,
     "start_time": "2024-11-21T21:40:03.332486",
     "status": "completed"
    },
    "tags": []
   },
   "outputs": [
    {
     "name": "stdout",
     "output_type": "stream",
     "text": [
      "Selected Features: Index(['contact_month', 'contact_day', 'age', 'balance', 'duration',\n",
      "       'campaign', 'pdays', 'previous', 'poutcome_success'],\n",
      "      dtype='object')\n"
     ]
    },
    {
     "name": "stderr",
     "output_type": "stream",
     "text": [
      "/opt/conda/lib/python3.10/site-packages/sklearn/base.py:432: UserWarning: X has feature names, but SelectFromModel was fitted without feature names\n",
      "  warnings.warn(\n",
      "/opt/conda/lib/python3.10/site-packages/sklearn/base.py:432: UserWarning: X has feature names, but SelectFromModel was fitted without feature names\n",
      "  warnings.warn(\n"
     ]
    }
   ],
   "source": [
    "from sklearn.feature_selection import SelectFromModel\n",
    "from sklearn.ensemble import RandomForestClassifier\n",
    "\n",
    "# Use a Random Forest to determine feature importance\n",
    "rf = RandomForestClassifier(random_state=42)\n",
    "rf.fit(X_train, y_train)\n",
    "\n",
    "# Select important features\n",
    "selector = SelectFromModel(rf, prefit=True)\n",
    "X_train_selected = selector.transform(X_train)\n",
    "X_val_selected = selector.transform(X_val)\n",
    "\n",
    "# Get selected feature names\n",
    "selected_features = X_train.columns[selector.get_support()]\n",
    "print(\"Selected Features:\", selected_features)"
   ]
  },
  {
   "cell_type": "markdown",
   "id": "f9a82ee7",
   "metadata": {
    "papermill": {
     "duration": 0.023714,
     "end_time": "2024-11-21T21:40:07.604564",
     "exception": false,
     "start_time": "2024-11-21T21:40:07.580850",
     "status": "completed"
    },
    "tags": []
   },
   "source": [
    "### Naive Bayes with Feature Selection (Model 5)"
   ]
  },
  {
   "cell_type": "code",
   "execution_count": 36,
   "id": "65140f06",
   "metadata": {
    "execution": {
     "iopub.execute_input": "2024-11-21T21:40:07.654666Z",
     "iopub.status.busy": "2024-11-21T21:40:07.654219Z",
     "iopub.status.idle": "2024-11-21T21:40:07.676319Z",
     "shell.execute_reply": "2024-11-21T21:40:07.675098Z"
    },
    "papermill": {
     "duration": 0.049852,
     "end_time": "2024-11-21T21:40:07.678533",
     "exception": false,
     "start_time": "2024-11-21T21:40:07.628681",
     "status": "completed"
    },
    "tags": []
   },
   "outputs": [
    {
     "name": "stdout",
     "output_type": "stream",
     "text": [
      "F1 Score (Naive Bayes): 0.6890166534496431\n"
     ]
    }
   ],
   "source": [
    "from sklearn.naive_bayes import GaussianNB\n",
    "from sklearn.metrics import f1_score\n",
    "\n",
    "nb_model = GaussianNB()\n",
    "nb_model.fit(X_train_selected, y_train)\n",
    "y_pred_nb = nb_model.predict(X_val_selected)\n",
    "\n",
    "f1_nb = f1_score(y_val, y_pred_nb, average='macro')\n",
    "print(f'F1 Score (Naive Bayes): {f1_nb}')"
   ]
  },
  {
   "cell_type": "markdown",
   "id": "9be26f0c",
   "metadata": {
    "papermill": {
     "duration": 0.025756,
     "end_time": "2024-11-21T21:40:07.728580",
     "exception": false,
     "start_time": "2024-11-21T21:40:07.702824",
     "status": "completed"
    },
    "tags": []
   },
   "source": [
    "### KNN with Feature Selection (Model 6)"
   ]
  },
  {
   "cell_type": "code",
   "execution_count": 37,
   "id": "4cdd7c2e",
   "metadata": {
    "execution": {
     "iopub.execute_input": "2024-11-21T21:40:07.779957Z",
     "iopub.status.busy": "2024-11-21T21:40:07.779508Z",
     "iopub.status.idle": "2024-11-21T21:40:08.284559Z",
     "shell.execute_reply": "2024-11-21T21:40:08.283314Z"
    },
    "papermill": {
     "duration": 0.533637,
     "end_time": "2024-11-21T21:40:08.286983",
     "exception": false,
     "start_time": "2024-11-21T21:40:07.753346",
     "status": "completed"
    },
    "tags": []
   },
   "outputs": [
    {
     "name": "stdout",
     "output_type": "stream",
     "text": [
      "F1 Score (k-NN): 0.6639464061069719\n"
     ]
    }
   ],
   "source": [
    "from sklearn.neighbors import KNeighborsClassifier\n",
    "\n",
    "knn_model = KNeighborsClassifier(n_neighbors=5) \n",
    "knn_model.fit(X_train_selected, y_train)\n",
    "y_pred_knn = knn_model.predict(X_val_selected)\n",
    "\n",
    "f1_knn = f1_score(y_val, y_pred_knn, average='macro')\n",
    "print(f'F1 Score (k-NN): {f1_knn}')\n"
   ]
  },
  {
   "cell_type": "markdown",
   "id": "581f2d0f",
   "metadata": {
    "papermill": {
     "duration": 0.026363,
     "end_time": "2024-11-21T21:40:08.338591",
     "exception": false,
     "start_time": "2024-11-21T21:40:08.312228",
     "status": "completed"
    },
    "tags": []
   },
   "source": [
    "### SVM with Feature Selection (Model 7)"
   ]
  },
  {
   "cell_type": "code",
   "execution_count": 38,
   "id": "fb9f4fcb",
   "metadata": {
    "execution": {
     "iopub.execute_input": "2024-11-21T21:40:08.390591Z",
     "iopub.status.busy": "2024-11-21T21:40:08.390214Z",
     "iopub.status.idle": "2024-11-21T21:40:28.122194Z",
     "shell.execute_reply": "2024-11-21T21:40:28.120626Z"
    },
    "papermill": {
     "duration": 19.761953,
     "end_time": "2024-11-21T21:40:28.125273",
     "exception": false,
     "start_time": "2024-11-21T21:40:08.363320",
     "status": "completed"
    },
    "tags": []
   },
   "outputs": [
    {
     "name": "stdout",
     "output_type": "stream",
     "text": [
      "F1 Score (SVM): 0.6127087819606903\n"
     ]
    }
   ],
   "source": [
    "from sklearn.svm import SVC\n",
    "\n",
    "svm_model = SVC(kernel='rbf', C=1, random_state=42)  # Try different kernels like 'linear', 'poly'\n",
    "svm_model.fit(X_train_selected, y_train)\n",
    "y_pred_svm = svm_model.predict(X_val_selected)\n",
    "\n",
    "f1_svm = f1_score(y_val, y_pred_svm, average='macro')\n",
    "print(f'F1 Score (SVM): {f1_svm}')"
   ]
  },
  {
   "cell_type": "markdown",
   "id": "f9d7805f",
   "metadata": {
    "papermill": {
     "duration": 0.024779,
     "end_time": "2024-11-21T21:40:28.175012",
     "exception": false,
     "start_time": "2024-11-21T21:40:28.150233",
     "status": "completed"
    },
    "tags": []
   },
   "source": [
    "## 3.5 Ensemble (Bagging, Boosting and Stacking)"
   ]
  },
  {
   "cell_type": "code",
   "execution_count": 39,
   "id": "095f9ea5",
   "metadata": {
    "execution": {
     "iopub.execute_input": "2024-11-21T21:40:28.226436Z",
     "iopub.status.busy": "2024-11-21T21:40:28.225661Z",
     "iopub.status.idle": "2024-11-21T21:40:28.441851Z",
     "shell.execute_reply": "2024-11-21T21:40:28.440851Z"
    },
    "papermill": {
     "duration": 0.244332,
     "end_time": "2024-11-21T21:40:28.444228",
     "exception": false,
     "start_time": "2024-11-21T21:40:28.199896",
     "status": "completed"
    },
    "tags": []
   },
   "outputs": [],
   "source": [
    "from sklearn.ensemble import RandomForestClassifier, BaggingClassifier, AdaBoostClassifier\n",
    "from sklearn.ensemble import StackingClassifier\n",
    "from sklearn.model_selection import cross_val_score\n",
    "from xgboost import XGBClassifier\n",
    "from sklearn.linear_model import LogisticRegression\n",
    "from sklearn.svm import SVC\n",
    "from sklearn.pipeline import Pipeline\n",
    "from sklearn.metrics import f1_score"
   ]
  },
  {
   "cell_type": "markdown",
   "id": "9eedcac3",
   "metadata": {
    "papermill": {
     "duration": 0.024439,
     "end_time": "2024-11-21T21:40:28.493459",
     "exception": false,
     "start_time": "2024-11-21T21:40:28.469020",
     "status": "completed"
    },
    "tags": []
   },
   "source": [
    "### 3.5.1 Bagging with Random Forest (Model 8)\n",
    "### **Best Model Rank 3** - Bagging with Random Forest"
   ]
  },
  {
   "cell_type": "code",
   "execution_count": 40,
   "id": "91ccc084",
   "metadata": {
    "execution": {
     "iopub.execute_input": "2024-11-21T21:40:28.544981Z",
     "iopub.status.busy": "2024-11-21T21:40:28.544596Z",
     "iopub.status.idle": "2024-11-21T21:40:38.197933Z",
     "shell.execute_reply": "2024-11-21T21:40:38.196685Z"
    },
    "papermill": {
     "duration": 9.682079,
     "end_time": "2024-11-21T21:40:38.200213",
     "exception": false,
     "start_time": "2024-11-21T21:40:28.518134",
     "status": "completed"
    },
    "tags": []
   },
   "outputs": [
    {
     "name": "stdout",
     "output_type": "stream",
     "text": [
      "F1 Score (Random Forest with SMOTE): 0.7327105988784584\n"
     ]
    }
   ],
   "source": [
    "from imblearn.over_sampling import SMOTE\n",
    "from sklearn.ensemble import RandomForestClassifier\n",
    "\n",
    "# Apply SMOTE\n",
    "smote = SMOTE(random_state=42)\n",
    "X_train_resampled, y_train_resampled = smote.fit_resample(X_train, y_train)\n",
    "\n",
    "# Train Random Forest\n",
    "bagging_model = RandomForestClassifier(random_state=42)\n",
    "bagging_model.fit(X_train_resampled, y_train_resampled)\n",
    "y_pred = bagging_model.predict(X_val)\n",
    "\n",
    "f1 = f1_score(y_val, y_pred, average='macro')\n",
    "print(f'F1 Score (Random Forest with SMOTE): {f1}')"
   ]
  },
  {
   "cell_type": "markdown",
   "id": "db0eb625",
   "metadata": {
    "papermill": {
     "duration": 0.025087,
     "end_time": "2024-11-21T21:40:38.249794",
     "exception": false,
     "start_time": "2024-11-21T21:40:38.224707",
     "status": "completed"
    },
    "tags": []
   },
   "source": [
    "#### Model Testing and Submission"
   ]
  },
  {
   "cell_type": "code",
   "execution_count": 41,
   "id": "13b2b1ff",
   "metadata": {
    "execution": {
     "iopub.execute_input": "2024-11-21T21:40:38.301110Z",
     "iopub.status.busy": "2024-11-21T21:40:38.300584Z",
     "iopub.status.idle": "2024-11-21T21:40:38.615600Z",
     "shell.execute_reply": "2024-11-21T21:40:38.614362Z"
    },
    "papermill": {
     "duration": 0.343699,
     "end_time": "2024-11-21T21:40:38.618449",
     "exception": false,
     "start_time": "2024-11-21T21:40:38.274750",
     "status": "completed"
    },
    "tags": []
   },
   "outputs": [
    {
     "name": "stdout",
     "output_type": "stream",
     "text": [
      "Submission file created: submission_3.csv\n"
     ]
    }
   ],
   "source": [
    "X_test_preprocessed = preprocessor.fit_transform(test_data)\n",
    "\n",
    "predictions = bagging_model.predict(X_test_preprocessed)\n",
    "\n",
    "submission_df = pd.DataFrame({\n",
    "    'id': test_data.index,  \n",
    "    'target': predictions\n",
    "})\n",
    "\n",
    "# Convert target to 'yes' or 'no'\n",
    "submission_df['target'] = submission_df['target'].map({1: 'yes', 0: 'no'})  # Assuming 1 is 'yes' and 0 is 'no'\n",
    "\n",
    "# Save to CSV\n",
    "submission_df.to_csv('submission_3.csv', index=False)\n",
    "\n",
    "print(\"Submission file created: submission_3.csv\")"
   ]
  },
  {
   "cell_type": "markdown",
   "id": "8a1e4991",
   "metadata": {
    "papermill": {
     "duration": 0.025576,
     "end_time": "2024-11-21T21:40:38.669126",
     "exception": false,
     "start_time": "2024-11-21T21:40:38.643550",
     "status": "completed"
    },
    "tags": []
   },
   "source": [
    "#### Test Validation Score: 0.71500"
   ]
  },
  {
   "cell_type": "code",
   "execution_count": 42,
   "id": "7e1db87d",
   "metadata": {
    "execution": {
     "iopub.execute_input": "2024-11-21T21:40:38.721123Z",
     "iopub.status.busy": "2024-11-21T21:40:38.720678Z",
     "iopub.status.idle": "2024-11-21T21:40:38.729697Z",
     "shell.execute_reply": "2024-11-21T21:40:38.728613Z"
    },
    "papermill": {
     "duration": 0.036988,
     "end_time": "2024-11-21T21:40:38.731896",
     "exception": false,
     "start_time": "2024-11-21T21:40:38.694908",
     "status": "completed"
    },
    "tags": []
   },
   "outputs": [
    {
     "data": {
      "text/plain": [
       "target\n",
       "no     8782\n",
       "yes    1218\n",
       "Name: count, dtype: int64"
      ]
     },
     "execution_count": 42,
     "metadata": {},
     "output_type": "execute_result"
    }
   ],
   "source": [
    "submission_df['target'].value_counts()"
   ]
  },
  {
   "cell_type": "markdown",
   "id": "f766d510",
   "metadata": {
    "papermill": {
     "duration": 0.024142,
     "end_time": "2024-11-21T21:40:38.780676",
     "exception": false,
     "start_time": "2024-11-21T21:40:38.756534",
     "status": "completed"
    },
    "tags": []
   },
   "source": [
    "### 3.5.2 Boosting with XGBoost (Model 9)\n",
    "### **Best Model Rank 1** - Boosting with XGBoost"
   ]
  },
  {
   "cell_type": "code",
   "execution_count": 43,
   "id": "62ccc476",
   "metadata": {
    "execution": {
     "iopub.execute_input": "2024-11-21T21:40:38.833247Z",
     "iopub.status.busy": "2024-11-21T21:40:38.832853Z",
     "iopub.status.idle": "2024-11-21T21:40:39.360721Z",
     "shell.execute_reply": "2024-11-21T21:40:39.359292Z"
    },
    "papermill": {
     "duration": 0.556592,
     "end_time": "2024-11-21T21:40:39.363546",
     "exception": false,
     "start_time": "2024-11-21T21:40:38.806954",
     "status": "completed"
    },
    "tags": []
   },
   "outputs": [
    {
     "name": "stdout",
     "output_type": "stream",
     "text": [
      "F1 Score with scale_pos_weight: 0.774452164852618\n"
     ]
    }
   ],
   "source": [
    "# Boosting (e.g., XGBoost)\n",
    "import xgboost as xgb\n",
    "from sklearn.metrics import f1_score\n",
    "\n",
    "scale_pos_weight = len(y_train[y_train == 0]) / len(y_train[y_train == 1])\n",
    "\n",
    "# Train XGBoost with class weight - scale_pos_weight\n",
    "xgb_model = xgb.XGBClassifier(scale_pos_weight=scale_pos_weight, random_state=42)\n",
    "xgb_model.fit(X_train, y_train)\n",
    "\n",
    "y_pred = xgb_model.predict(X_val)\n",
    "f1 = f1_score(y_val, y_pred, average='macro')\n",
    "print(f'F1 Score with scale_pos_weight: {f1}')"
   ]
  },
  {
   "cell_type": "markdown",
   "id": "293cab07",
   "metadata": {
    "papermill": {
     "duration": 0.024114,
     "end_time": "2024-11-21T21:40:39.412210",
     "exception": false,
     "start_time": "2024-11-21T21:40:39.388096",
     "status": "completed"
    },
    "tags": []
   },
   "source": [
    "#### Model Testing and Submission"
   ]
  },
  {
   "cell_type": "code",
   "execution_count": 44,
   "id": "695fa7cd",
   "metadata": {
    "execution": {
     "iopub.execute_input": "2024-11-21T21:40:39.462901Z",
     "iopub.status.busy": "2024-11-21T21:40:39.462484Z",
     "iopub.status.idle": "2024-11-21T21:40:39.579175Z",
     "shell.execute_reply": "2024-11-21T21:40:39.577625Z"
    },
    "papermill": {
     "duration": 0.144877,
     "end_time": "2024-11-21T21:40:39.581571",
     "exception": false,
     "start_time": "2024-11-21T21:40:39.436694",
     "status": "completed"
    },
    "tags": []
   },
   "outputs": [
    {
     "name": "stdout",
     "output_type": "stream",
     "text": [
      "Submission file created: submission_1.csv\n"
     ]
    }
   ],
   "source": [
    "X_test_preprocessed = preprocessor.fit_transform(test_data)\n",
    "\n",
    "predictions = xgb_model.predict(X_test_preprocessed)\n",
    "\n",
    "submission_df = pd.DataFrame({\n",
    "    'id': test_data.index,  \n",
    "    'target': predictions\n",
    "})\n",
    "\n",
    "# Convert target to 'yes' or 'no'\n",
    "submission_df['target'] = submission_df['target'].map({1: 'yes', 0: 'no'})  # Assuming 1 is 'yes' and 0 is 'no'\n",
    "\n",
    "# Save to CSV\n",
    "submission_df.to_csv('submission_1.csv', index=False)\n",
    "\n",
    "print(\"Submission file created: submission_1.csv\")"
   ]
  },
  {
   "cell_type": "markdown",
   "id": "cdd2db3c",
   "metadata": {
    "papermill": {
     "duration": 0.025688,
     "end_time": "2024-11-21T21:40:39.633205",
     "exception": false,
     "start_time": "2024-11-21T21:40:39.607517",
     "status": "completed"
    },
    "tags": []
   },
   "source": [
    "#### Test Validation Score: 0.75125"
   ]
  },
  {
   "cell_type": "code",
   "execution_count": 45,
   "id": "51d773f0",
   "metadata": {
    "execution": {
     "iopub.execute_input": "2024-11-21T21:40:39.685109Z",
     "iopub.status.busy": "2024-11-21T21:40:39.684725Z",
     "iopub.status.idle": "2024-11-21T21:40:39.693818Z",
     "shell.execute_reply": "2024-11-21T21:40:39.692607Z"
    },
    "papermill": {
     "duration": 0.037513,
     "end_time": "2024-11-21T21:40:39.696125",
     "exception": false,
     "start_time": "2024-11-21T21:40:39.658612",
     "status": "completed"
    },
    "tags": []
   },
   "outputs": [
    {
     "data": {
      "text/plain": [
       "target\n",
       "no     8171\n",
       "yes    1829\n",
       "Name: count, dtype: int64"
      ]
     },
     "execution_count": 45,
     "metadata": {},
     "output_type": "execute_result"
    }
   ],
   "source": [
    "submission_df['target'].value_counts()"
   ]
  },
  {
   "cell_type": "markdown",
   "id": "a4eaa6ac",
   "metadata": {
    "papermill": {
     "duration": 0.024541,
     "end_time": "2024-11-21T21:40:39.745131",
     "exception": false,
     "start_time": "2024-11-21T21:40:39.720590",
     "status": "completed"
    },
    "tags": []
   },
   "source": [
    "### 3.5.3 Stacking with Logistic Regression and SVM (Model 10)"
   ]
  },
  {
   "cell_type": "code",
   "execution_count": 46,
   "id": "496343ae",
   "metadata": {
    "execution": {
     "iopub.execute_input": "2024-11-21T21:40:39.796409Z",
     "iopub.status.busy": "2024-11-21T21:40:39.796005Z",
     "iopub.status.idle": "2024-11-21T21:53:25.642665Z",
     "shell.execute_reply": "2024-11-21T21:53:25.641122Z"
    },
    "papermill": {
     "duration": 765.90206,
     "end_time": "2024-11-21T21:53:25.671752",
     "exception": false,
     "start_time": "2024-11-21T21:40:39.769692",
     "status": "completed"
    },
    "tags": []
   },
   "outputs": [
    {
     "name": "stderr",
     "output_type": "stream",
     "text": [
      "/opt/conda/lib/python3.10/site-packages/sklearn/linear_model/_sag.py:350: ConvergenceWarning: The max_iter was reached which means the coef_ did not converge\n",
      "  warnings.warn(\n",
      "/opt/conda/lib/python3.10/site-packages/sklearn/linear_model/_sag.py:350: ConvergenceWarning: The max_iter was reached which means the coef_ did not converge\n",
      "  warnings.warn(\n",
      "/opt/conda/lib/python3.10/site-packages/sklearn/linear_model/_sag.py:350: ConvergenceWarning: The max_iter was reached which means the coef_ did not converge\n",
      "  warnings.warn(\n",
      "/opt/conda/lib/python3.10/site-packages/sklearn/linear_model/_sag.py:350: ConvergenceWarning: The max_iter was reached which means the coef_ did not converge\n",
      "  warnings.warn(\n",
      "/opt/conda/lib/python3.10/site-packages/sklearn/linear_model/_sag.py:350: ConvergenceWarning: The max_iter was reached which means the coef_ did not converge\n",
      "  warnings.warn(\n",
      "/opt/conda/lib/python3.10/site-packages/sklearn/linear_model/_sag.py:350: ConvergenceWarning: The max_iter was reached which means the coef_ did not converge\n",
      "  warnings.warn(\n"
     ]
    },
    {
     "name": "stdout",
     "output_type": "stream",
     "text": [
      "F1 Score (Stacking): 0.6206670417164779\n"
     ]
    }
   ],
   "source": [
    "from sklearn.svm import SVC\n",
    "from sklearn.ensemble import RandomForestClassifier, StackingClassifier\n",
    "from sklearn.metrics import f1_score, accuracy_score\n",
    "\n",
    "stacking_model = StackingClassifier(\n",
    "    estimators=[\n",
    "        ('lr', LogisticRegression(solver='saga', max_iter=1000, tol=1e-4, random_state=42)),\n",
    "        ('svc', SVC(probability=True, random_state=42))\n",
    "    ],\n",
    "    final_estimator=RandomForestClassifier(random_state=42)\n",
    ")\n",
    "stacking_model.fit(X_train, y_train)\n",
    "\n",
    "y_pred_stacking = stacking_model.predict(X_val)\n",
    "stacking_f1 = f1_score(y_val, y_pred_stacking, average='macro')\n",
    "print(f'F1 Score (Stacking): {stacking_f1}')"
   ]
  },
  {
   "cell_type": "markdown",
   "id": "ebd33190",
   "metadata": {
    "papermill": {
     "duration": 0.025292,
     "end_time": "2024-11-21T21:53:25.722459",
     "exception": false,
     "start_time": "2024-11-21T21:53:25.697167",
     "status": "completed"
    },
    "tags": []
   },
   "source": [
    "## 3.6 Multi Layer Perceptron\n",
    "### 3.6.1 Multi Layer Perceptron (MLP) - Model 11"
   ]
  },
  {
   "cell_type": "code",
   "execution_count": 47,
   "id": "403ad1f1",
   "metadata": {
    "execution": {
     "iopub.execute_input": "2024-11-21T21:53:25.775761Z",
     "iopub.status.busy": "2024-11-21T21:53:25.774872Z",
     "iopub.status.idle": "2024-11-21T21:53:33.595791Z",
     "shell.execute_reply": "2024-11-21T21:53:33.592039Z"
    },
    "papermill": {
     "duration": 7.852196,
     "end_time": "2024-11-21T21:53:33.600168",
     "exception": false,
     "start_time": "2024-11-21T21:53:25.747972",
     "status": "completed"
    },
    "tags": []
   },
   "outputs": [
    {
     "name": "stdout",
     "output_type": "stream",
     "text": [
      "F1 Score (MLP): 0.6666533861267759\n"
     ]
    }
   ],
   "source": [
    "from sklearn.neural_network import MLPClassifier\n",
    "from sklearn.metrics import f1_score\n",
    "\n",
    "mlp_model = MLPClassifier(hidden_layer_sizes=(100,), max_iter=300, random_state=42)\n",
    "mlp_model.fit(X_train, y_train)\n",
    "y_pred_mlp = mlp_model.predict(X_val)\n",
    "mlp_f1 = f1_score(y_val, y_pred_mlp, average='macro')\n",
    "print(f'F1 Score (MLP): {mlp_f1}')"
   ]
  },
  {
   "cell_type": "markdown",
   "id": "c6dfcf4b",
   "metadata": {
    "papermill": {
     "duration": 0.048143,
     "end_time": "2024-11-21T21:53:33.696810",
     "exception": false,
     "start_time": "2024-11-21T21:53:33.648667",
     "status": "completed"
    },
    "tags": []
   },
   "source": [
    "# **4. Results and Insights**\n",
    "\n",
    "## 4.1 Insights Obtained from Dataset"
   ]
  },
  {
   "cell_type": "markdown",
   "id": "d7e4144e",
   "metadata": {
    "papermill": {
     "duration": 0.025022,
     "end_time": "2024-11-21T21:53:33.749828",
     "exception": false,
     "start_time": "2024-11-21T21:53:33.724806",
     "status": "completed"
    },
    "tags": []
   },
   "source": [
    "### 4.1.1 Important Findings from Dataset\n",
    "\n",
    "* Identified a significant **class imbalance** in the `target` variable, with **15% labeled as 'yes'** and **85% as 'no'**.\n",
    "\n",
    "* Found columns such as `job`, `education`, `contact`, and `poutcome` containing missing or `NaN`values.\n",
    "  \n",
    "* The `date` column required transformation into `numerical` values (that is, `year`, `month`, and `day`) for preprocessing.\n",
    "  \n",
    "* Observed that the `job` column had the **highest cardinality** compared to other `categorical` columns.\n",
    "\n",
    "* **Visualized** the dataset and found these findings to be true.\n"
   ]
  },
  {
   "cell_type": "markdown",
   "id": "a3a2b5c7",
   "metadata": {
    "papermill": {
     "duration": 0.025278,
     "end_time": "2024-11-21T21:53:33.801009",
     "exception": false,
     "start_time": "2024-11-21T21:53:33.775731",
     "status": "completed"
    },
    "tags": []
   },
   "source": [
    "### 4.1.2 Ideas Derived from Findings\n",
    "\n",
    "* Applied **One-Hot Encoding** for `categorical` variables with multiple unique values.\n",
    "\n",
    "* Used **Ordinal Encoding** for `binary` variables (e.g., 'yes' or 'no') to reduce dimensionality and assign meaningful order (e.g., yes=1, no=0).\n",
    "\n",
    "* For columns with **significant missing data**, imputed with the `most frequent` value.\n",
    "\n",
    "* For others, replaced `NaN` values with `unknown` to preserve information. \n",
    "\n",
    "* Applied **StandardScale** to `continuous` variables like `age`.\n",
    "\n",
    "* Used **MinMaxScaler** for `discrete` variables to bring values within a defined range, especially since some had **negative values** or **exceeded 1000**.\n",
    "\n",
    "* The preprocessing resulted in **34 features**, all with **no missing values**.\n",
    "\n",
    "* Managed the `target` imbalance using techniques such as **SMOTE** and **class weights** during model training to improve model performance."
   ]
  },
  {
   "cell_type": "markdown",
   "id": "bba84c57",
   "metadata": {
    "papermill": {
     "duration": 0.024764,
     "end_time": "2024-11-21T21:53:33.850909",
     "exception": false,
     "start_time": "2024-11-21T21:53:33.826145",
     "status": "completed"
    },
    "tags": []
   },
   "source": [
    "## 4.2 Insights on the Best 3 Model Performances"
   ]
  },
  {
   "cell_type": "markdown",
   "id": "838e4819",
   "metadata": {
    "papermill": {
     "duration": 0.026332,
     "end_time": "2024-11-21T21:53:33.902372",
     "exception": false,
     "start_time": "2024-11-21T21:53:33.876040",
     "status": "completed"
    },
    "tags": []
   },
   "source": [
    "### 4.2.1 Comparsion of Best 3 Models\n",
    "\n",
    "#### Rank 1: XGBoost\n",
    "\n",
    "* **Validation Score (Kaggle):** 75.125%,\n",
    "* **F1 Score:** Approx 77%\n",
    "* Outperformed others by handling **class imbalance** using `scale_pos_weight` and capturing complex patterns.\n",
    "* It is **Computationally expensive** than the other two models.\n",
    "\n",
    "#### Rank 2: Logistic Regression (Tuned)\n",
    "\n",
    "* **Validation Score (Kaggle):** 72.726%\n",
    "* **F1 Score:** Approx 71.3%\n",
    "* Simple and efficient, improved with **hyperparameter tuning**.\n",
    "* Struggled with non-linear patterns and **class imbalance**.\n",
    "\n",
    "#### Rank 3: Random Forest\n",
    "\n",
    "* **Validation Score (Kaggle):** 71.50%\n",
    "* **F1 Score:** Approx 73%\n",
    "* Robust and **less prone to overfitting**, performed well.\n",
    "* Required more effort to handle **imbalance**.\n",
    "\n"
   ]
  },
  {
   "cell_type": "markdown",
   "id": "50c8ad5d",
   "metadata": {
    "papermill": {
     "duration": 0.024924,
     "end_time": "2024-11-21T21:53:33.952626",
     "exception": false,
     "start_time": "2024-11-21T21:53:33.927702",
     "status": "completed"
    },
    "tags": []
   },
   "source": [
    "### 4.2.2 Insights from 3 Model Results\n",
    "\n",
    "#### 1. XGBoost:\n",
    "* Managed class imbalance effectively, making it more capable in handling imbalanced data distributions.\n",
    "  \n",
    "#### 2. Logistic Regression:\n",
    "* Hyperparameter tuning made this simple model perform surprisingly well, achieving a high F1 score and fast predictions.\n",
    "  \n",
    "\n",
    "#### 3. Random Forest:\n",
    "* While it performed similarly to XGBoost, its handling of class imbalance was not as robust.\n",
    "* This led to slightly reduced effectiveness, though it still provided strong predictions and good performance."
   ]
  },
  {
   "cell_type": "markdown",
   "id": "2461f01b",
   "metadata": {
    "papermill": {
     "duration": 0.02552,
     "end_time": "2024-11-21T21:53:34.003852",
     "exception": false,
     "start_time": "2024-11-21T21:53:33.978332",
     "status": "completed"
    },
    "tags": []
   },
   "source": [
    "# **5. Summary or Conclusion:**\n",
    "\n",
    "In this classification task, its aimed to predict a binary target variable from a dataset with significant class imbalance (85% \"no\" and 15% \"yes\"). After performing thorough data preprocessing, including handling missing values, encoding categorical variables, and scaling numerical features, try experimented with different machine learning models.\n",
    "\n",
    "#### The top-performing models were:\n",
    "\n",
    "1. **XGBoost with** `scale_pos_weight` *(75.125% Score)*\n",
    "\n",
    "2. **Logistic Regression with** `Hyperparameter Tuned` **and** `class_weights` *(72.726% Score)*\n",
    "\n",
    "3. **Random Forest with** `SMOTE` *(71.500% Score)*"
   ]
  },
  {
   "cell_type": "code",
   "execution_count": null,
   "id": "1aac48ce",
   "metadata": {
    "papermill": {
     "duration": 0.027706,
     "end_time": "2024-11-21T21:53:34.057731",
     "exception": false,
     "start_time": "2024-11-21T21:53:34.030025",
     "status": "completed"
    },
    "tags": []
   },
   "outputs": [],
   "source": []
  }
 ],
 "metadata": {
  "kaggle": {
   "accelerator": "none",
   "dataSources": [
    {
     "databundleVersionId": 9578279,
     "sourceId": 85062,
     "sourceType": "competition"
    }
   ],
   "dockerImageVersionId": 30786,
   "isGpuEnabled": false,
   "isInternetEnabled": false,
   "language": "python",
   "sourceType": "notebook"
  },
  "kernelspec": {
   "display_name": "Python 3",
   "language": "python",
   "name": "python3"
  },
  "language_info": {
   "codemirror_mode": {
    "name": "ipython",
    "version": 3
   },
   "file_extension": ".py",
   "mimetype": "text/x-python",
   "name": "python",
   "nbconvert_exporter": "python",
   "pygments_lexer": "ipython3",
   "version": "3.10.14"
  },
  "papermill": {
   "default_parameters": {},
   "duration": 942.6811,
   "end_time": "2024-11-21T21:53:36.703809",
   "environment_variables": {},
   "exception": null,
   "input_path": "__notebook__.ipynb",
   "output_path": "__notebook__.ipynb",
   "parameters": {},
   "start_time": "2024-11-21T21:37:54.022709",
   "version": "2.6.0"
  }
 },
 "nbformat": 4,
 "nbformat_minor": 5
}
